{
 "cells": [
  {
   "cell_type": "code",
   "execution_count": 2,
   "metadata": {},
   "outputs": [],
   "source": [
    "import pandas as pd\n",
    "import numpy as np\n",
    "import plotly.express as px\n",
    "import requests\n",
    "import warnings\n",
    "\n",
    "# settings\n",
    "warnings.filterwarnings(\"ignore\")\n",
    "pd.set_option(\"display.max_columns\", None)\n",
    "\n"
   ]
  },
  {
   "cell_type": "code",
   "execution_count": 60,
   "metadata": {},
   "outputs": [],
   "source": [
    "\n",
    "def get_listings(api_key, listing_url):\n",
    "    url = \"https://app.scrapeak.com/v1/scrapers/zillow/listing\"\n",
    "\n",
    "    querystring = {\n",
    "        \"api_key\": api_key,\n",
    "        \"url\":listing_url\n",
    "    }\n",
    "\n",
    "    return requests.request(\"GET\", url, params=querystring)\n",
    "\n",
    "def get_property_detail(api_key, zpid):\n",
    "    url = \"https://app.scrapeak.com/v1/scrapers/zillow/property\"\n",
    "\n",
    "    querystring = {\n",
    "        \"api_key\": api_key,\n",
    "        \"zpid\":zpid\n",
    "    }\n",
    "\n",
    "    return requests.request(\"GET\", url, params=querystring)\n",
    "\n",
    "def get_zpid(api_key, street, city, state, zip_code=None):\n",
    "    url = \"https://app.scrapeak.com/v1/scrapers/zillow/zpidByAddress\"\n",
    "\n",
    "    querystring = {\n",
    "        \"api_key\": api_key,\n",
    "        \"street\": street,\n",
    "        \"city\": city,\n",
    "        \"state\": state,\n",
    "        \"zip_code\":zip_code\n",
    "    }\n",
    "\n",
    "    return requests.request(\"GET\", url, params=querystring)\n"
   ]
  },
  {
   "cell_type": "code",
   "execution_count": 61,
   "metadata": {},
   "outputs": [],
   "source": [
    "api_key = \"c1e49ba8-1e75-485b-a5a1-a2d3ae00d7f8\""
   ]
  },
  {
   "cell_type": "code",
   "execution_count": 62,
   "metadata": {},
   "outputs": [],
   "source": [
    "#zillow search url\n",
    "#listing_url = \"https://www.zillow.com/spokane-wa\"\n",
    "State = \"Washington\"\n",
    "\n",
    "if State == \"Alabama\":\n",
    "    listing_url = \"https://www.zillow.com/al/?searchQueryState=%7B%22usersSearchTerm%22%3A%22617%20Washintgon%20St%20Erwin%2C%20TN%2037650%22%2C%22mapBounds%22%3A%7B%22north%22%3A35.72637801711301%2C%22east%22%3A-82.89045329687498%2C%22south%22%3A29.379707333780196%2C%22west%22%3A-90.47101970312498%7D%2C%22isMapVisible%22%3Atrue%2C%22filterState%22%3A%7B%22sort%22%3A%7B%22value%22%3A%22globalrelevanceex%22%7D%2C%22ah%22%3A%7B%22value%22%3Atrue%7D%7D%2C%22isListVisible%22%3Atrue%2C%22mapZoom%22%3A7%2C%22regionSelection%22%3A%5B%7B%22regionId%22%3A4%2C%22regionType%22%3A2%7D%5D%2C%22pagination%22%3A%7B%7D%7D\"\n",
    "elif State == \"Alaska\":\\\n",
    "    listing_url = \"https://www.zillow.com/ak/?searchQueryState=%7B%22usersSearchTerm%22%3A%22617%20Washintgon%20St%20Erwin%2C%20TN%2037650%22%2C%22mapBounds%22%3A%7B%22north%22%3A73.8605147329746%2C%22east%22%3A-119.35446875%2C%22south%22%3A45.7956832215216%2C%22west%22%3A-179.999%7D%2C%22isMapVisible%22%3Atrue%2C%22filterState%22%3A%7B%22sort%22%3A%7B%22value%22%3A%22globalrelevanceex%22%7D%2C%22ah%22%3A%7B%22value%22%3Atrue%7D%7D%2C%22isListVisible%22%3Atrue%2C%22mapZoom%22%3A4%2C%22regionSelection%22%3A%5B%7B%22regionId%22%3A3%2C%22regionType%22%3A2%7D%5D%2C%22pagination%22%3A%7B%7D%7D\"\n",
    "elif State == \"Arizona\":\n",
    "    listing_url = \"https://www.zillow.com/az/?searchQueryState=%7B%22usersSearchTerm%22%3A%22617%20Washintgon%20St%20Erwin%2C%20TN%2037650%22%2C%22mapBounds%22%3A%7B%22north%22%3A37.273648515974386%2C%22east%22%3A-108.140623796875%2C%22south%22%3A31.04308633047789%2C%22west%22%3A-115.721190203125%7D%2C%22isMapVisible%22%3Atrue%2C%22filterState%22%3A%7B%22sort%22%3A%7B%22value%22%3A%22globalrelevanceex%22%7D%2C%22ah%22%3A%7B%22value%22%3Atrue%7D%7D%2C%22isListVisible%22%3Atrue%2C%22mapZoom%22%3A7%2C%22regionSelection%22%3A%5B%7B%22regionId%22%3A8%2C%22regionType%22%3A2%7D%5D%2C%22pagination%22%3A%7B%7D%7D\"\n",
    "elif State == \"Arkansas\":\n",
    "    listing_url = \"https://www.zillow.com/ar/?searchQueryState=%7B%22usersSearchTerm%22%3A%22617%20Washintgon%20St%20Erwin%2C%20TN%2037650%22%2C%22mapBounds%22%3A%7B%22north%22%3A37.80711801863995%2C%22east%22%3A-88.341095296875%2C%22south%22%3A31.617770282230037%2C%22west%22%3A-95.921661703125%7D%2C%22isMapVisible%22%3Atrue%2C%22filterState%22%3A%7B%22sort%22%3A%7B%22value%22%3A%22globalrelevanceex%22%7D%2C%22ah%22%3A%7B%22value%22%3Atrue%7D%7D%2C%22isListVisible%22%3Atrue%2C%22mapZoom%22%3A7%2C%22regionSelection%22%3A%5B%7B%22regionId%22%3A6%2C%22regionType%22%3A2%7D%5D%2C%22pagination%22%3A%7B%7D%7D\"\n",
    "elif State == \"California\":\n",
    "    listing_url = \"https://www.zillow.com/ca/?searchQueryState=%7B%22usersSearchTerm%22%3A%22617%20Washintgon%20St%20Erwin%2C%20TN%2037650%22%2C%22mapBounds%22%3A%7B%22north%22%3A43.1618551749633%2C%22east%22%3A-111.72608259375001%2C%22south%22%3A31.19957330351528%2C%22west%22%3A-126.88721540625%7D%2C%22isMapVisible%22%3Atrue%2C%22filterState%22%3A%7B%22sort%22%3A%7B%22value%22%3A%22globalrelevanceex%22%7D%2C%22ah%22%3A%7B%22value%22%3Atrue%7D%7D%2C%22isListVisible%22%3Atrue%2C%22mapZoom%22%3A6%2C%22regionSelection%22%3A%5B%7B%22regionId%22%3A9%2C%22regionType%22%3A2%7D%5D%2C%22pagination%22%3A%7B%7D%7D\"\n",
    "elif State == \"Colorado\":\n",
    "    listing_url = \"https://www.zillow.com/co/?searchQueryState=%7B%22usersSearchTerm%22%3A%22617%20Washintgon%20St%20Erwin%2C%20TN%2037650%22%2C%22mapBounds%22%3A%7B%22north%22%3A41.89281177226884%2C%22east%22%3A-101.760283796875%2C%22south%22%3A36.038816976583995%2C%22west%22%3A-109.340850203125%7D%2C%22isMapVisible%22%3Atrue%2C%22filterState%22%3A%7B%22sort%22%3A%7B%22value%22%3A%22globalrelevanceex%22%7D%2C%22ah%22%3A%7B%22value%22%3Atrue%7D%7D%2C%22isListVisible%22%3Atrue%2C%22mapZoom%22%3A7%2C%22regionSelection%22%3A%5B%7B%22regionId%22%3A10%2C%22regionType%22%3A2%7D%5D%2C%22pagination%22%3A%7B%7D%7D\"\n",
    "elif State == \"Connecticut\":\n",
    "    listing_url = \"https://www.zillow.com/ct/?utm_medium=cpc&utm_source=google&utm_content=19844225958|147527097815|aud-457069900685:kwd-409215547157|649039147826|&semQue=null&gclid=Cj0KCQjwla-hBhD7ARIsAM9tQKsrX3ZPNUNmwFR6wXbkbpo1uzGI5uLVEBoXLxkiiOXFQvfXQLHIIWsaAmsHEALw_wcB\"\n",
    "elif State == \"Delaware\":\n",
    "    listing_url = \"https://www.zillow.com/de/?searchQueryState=%7B%22usersSearchTerm%22%3A%22617%20Washintgon%20St%20Erwin%2C%20TN%2037650%22%2C%22mapBounds%22%3A%7B%22north%22%3A40.36218340537771%2C%22east%22%3A-73.55759086693789%2C%22south%22%3A37.43009897428272%2C%22west%22%3A-77.34787407006289%7D%2C%22isMapVisible%22%3Atrue%2C%22filterState%22%3A%7B%22sort%22%3A%7B%22value%22%3A%22globalrelevanceex%22%7D%2C%22ah%22%3A%7B%22value%22%3Atrue%7D%7D%2C%22isListVisible%22%3Atrue%2C%22mapZoom%22%3A8%2C%22regionSelection%22%3A%5B%7B%22regionId%22%3A13%2C%22regionType%22%3A2%7D%5D%2C%22pagination%22%3A%7B%7D%7D\"\n",
    "elif State == \"Flordia\":\n",
    "    listing_url = \"https://www.zillow.com/fl/?searchQueryState=%7B%22usersSearchTerm%22%3A%22617%20Washintgon%20St%20Erwin%2C%20TN%2037650%22%2C%22mapBounds%22%3A%7B%22north%22%3A34.204523312786876%2C%22east%22%3A-76.22403459375002%2C%22south%22%3A20.886516602197208%2C%22west%22%3A-91.38516740625002%7D%2C%22isMapVisible%22%3Atrue%2C%22filterState%22%3A%7B%22sort%22%3A%7B%22value%22%3A%22globalrelevanceex%22%7D%2C%22ah%22%3A%7B%22value%22%3Atrue%7D%7D%2C%22isListVisible%22%3Atrue%2C%22mapZoom%22%3A6%2C%22regionSelection%22%3A%5B%7B%22regionId%22%3A14%2C%22regionType%22%3A2%7D%5D%2C%22pagination%22%3A%7B%7D%7D\"\n",
    "elif State == \"Georgia\":\n",
    "    listing_url = \"https://www.zillow.com/ga/?searchQueryState=%7B%22usersSearchTerm%22%3A%22617%20Washintgon%20St%20Erwin%2C%20TN%2037650%22%2C%22mapBounds%22%3A%7B%22north%22%3A35.82189379838878%2C%22east%22%3A-79.388013796875%2C%22south%22%3A29.4822421033303%2C%22west%22%3A-86.968580203125%7D%2C%22isMapVisible%22%3Atrue%2C%22filterState%22%3A%7B%22sort%22%3A%7B%22value%22%3A%22globalrelevanceex%22%7D%2C%22ah%22%3A%7B%22value%22%3Atrue%7D%7D%2C%22isListVisible%22%3Atrue%2C%22mapZoom%22%3A7%2C%22regionSelection%22%3A%5B%7B%22regionId%22%3A16%2C%22regionType%22%3A2%7D%5D%2C%22pagination%22%3A%7B%7D%7D\"\n",
    "elif State == \"Hawaii\":\n",
    "    listing_url = \"https://www.zillow.com/hi/?searchQueryState=%7B%22usersSearchTerm%22%3A%22617%20Washintgon%20St%20Erwin%2C%20TN%2037650%22%2C%22mapBounds%22%3A%7B%22north%22%3A36.75254457427471%2C%22east%22%3A-149.676734375%2C%22south%22%3A9.379173214504409%2C%22west%22%3A-179.999%7D%2C%22isMapVisible%22%3Atrue%2C%22filterState%22%3A%7B%22sort%22%3A%7B%22value%22%3A%22globalrelevanceex%22%7D%2C%22ah%22%3A%7B%22value%22%3Atrue%7D%7D%2C%22isListVisible%22%3Atrue%2C%22mapZoom%22%3A5%2C%22regionSelection%22%3A%5B%7B%22regionId%22%3A18%2C%22regionType%22%3A2%7D%5D%2C%22pagination%22%3A%7B%7D%7D\"\n",
    "elif State == \"Idaho\":\n",
    "    listing_url = \"https://www.zillow.com/id/?searchQueryState=%7B%22usersSearchTerm%22%3A%22617%20Washintgon%20St%20Erwin%2C%20TN%2037650%22%2C%22mapBounds%22%3A%7B%22north%22%3A50.629931709855136%2C%22east%22%3A-106.56269459374998%2C%22south%22%3A40.083931700727035%2C%22west%22%3A-121.72382740624998%7D%2C%22isMapVisible%22%3Atrue%2C%22filterState%22%3A%7B%22sort%22%3A%7B%22value%22%3A%22globalrelevanceex%22%7D%2C%22ah%22%3A%7B%22value%22%3Atrue%7D%7D%2C%22isListVisible%22%3Atrue%2C%22mapZoom%22%3A6%2C%22regionSelection%22%3A%5B%7B%22regionId%22%3A20%2C%22regionType%22%3A2%7D%5D%2C%22pagination%22%3A%7B%7D%7D\"\n",
    "elif State == \"Illinois\":\n",
    "    listing_url = \"https://www.zillow.com/il/?utm_medium=cpc&utm_source=google&utm_content=19844225958|147527098015|aud-352785740844:kwd-340548454481|649039132277|&semQue=null&gclid=Cj0KCQjwla-hBhD7ARIsAM9tQKvHDaGDVeGFAJUZ5_aq656dAcKoNjMNnCtTRPg1ueQOgN634oWX3DQaAm1IEALw_wcB\"\n",
    "elif State == \"Indiana\":\n",
    "    listing_url = \"https://www.zillow.com/in/?utm_medium=cpc&utm_source=google&utm_content=19844225958|147527098015|aud-352785740844:kwd-340548454481|649039132277|&semQue=null&gclid=Cj0KCQjwla-hBhD7ARIsAM9tQKvHDaGDVeGFAJUZ5_aq656dAcKoNjMNnCtTRPg1ueQOgN634oWX3DQaAm1IEALw_wcB&searchQueryState=%7B%22mapBounds%22%3A%7B%22north%22%3A42.629532572226346%2C%22east%22%3A-82.650993796875%2C%22south%22%3A36.83964613579312%2C%22west%22%3A-90.231560203125%7D%2C%22isMapVisible%22%3Atrue%2C%22filterState%22%3A%7B%22sort%22%3A%7B%22value%22%3A%22globalrelevanceex%22%7D%2C%22ah%22%3A%7B%22value%22%3Atrue%7D%7D%2C%22isListVisible%22%3Atrue%2C%22mapZoom%22%3A7%2C%22regionSelection%22%3A%5B%7B%22regionId%22%3A22%2C%22regionType%22%3A2%7D%5D%2C%22pagination%22%3A%7B%7D%7D\"\n",
    "elif State == \"Iowa\":\n",
    "    listing_url = \"https://www.zillow.com/ia/?utm_medium=cpc&utm_source=google&utm_content=19844225958|147527098015|aud-352785740844:kwd-340548454481|649039132277|&semQue=null&gclid=Cj0KCQjwla-hBhD7ARIsAM9tQKvHDaGDVeGFAJUZ5_aq656dAcKoNjMNnCtTRPg1ueQOgN634oWX3DQaAm1IEALw_wcB&searchQueryState=%7B%22mapBounds%22%3A%7B%22north%22%3A44.69797291463958%2C%22east%22%3A-89.599514796875%2C%22south%22%3A39.09386140014089%2C%22west%22%3A-97.180081203125%7D%2C%22isMapVisible%22%3Atrue%2C%22filterState%22%3A%7B%22sort%22%3A%7B%22value%22%3A%22globalrelevanceex%22%7D%2C%22ah%22%3A%7B%22value%22%3Atrue%7D%7D%2C%22isListVisible%22%3Atrue%2C%22mapZoom%22%3A7%2C%22regionSelection%22%3A%5B%7B%22regionId%22%3A19%2C%22regionType%22%3A2%7D%5D%2C%22pagination%22%3A%7B%7D%7D\"\n",
    "elif State == \"Kansas\":\n",
    "    listing_url = \"https://www.zillow.com/ks/?utm_medium=cpc&utm_source=google&utm_content=19844225958|147527100175|aud-456022128469:kwd-442006803335|649039147862|&semQue=null&gclid=Cj0KCQjwla-hBhD7ARIsAM9tQKsw5kojVCPpwxbJOxjp42w3uIGVcNPCCY3BKmy0Ybak6i1AIVAlG9gaAoiUEALw_wcB\"\n",
    "elif State == \"Kentucky\":\n",
    "    listing_url = \"https://www.zillow.com/ky/?utm_medium=cpc&utm_source=google&utm_content=19844225958|147527100215|aud-298298841046:kwd-358484206271|649039147865|&semQue=null&gclid=Cj0KCQjwla-hBhD7ARIsAM9tQKt9iOFzbAuXYzvFl-_JOsq08D5QLJmcCSUo4IANeCfK6Xt3iJg7GWwaApKREALw_wcB\"\n",
    "elif State == \"Louisiana\":\n",
    "    listing_url = \"https://www.zillow.com/la/?utm_medium=cpc&utm_source=google&utm_content=19844225958|147527098695|aud-352785740844:kwd-421540411595|649039147832|&semQue=null&gclid=Cj0KCQjwla-hBhD7ARIsAM9tQKu8T_EqqGdVckiSTdmLrz4HetU0C-TO6xQUlWU_3N7YLyD04oMFSd0aAinOEALw_wcB\"\n",
    "elif State == \"Maine\":\n",
    "    listing_url = \"https://www.zillow.com/homes/maine_rb/?utm_medium=cpc&utm_source=google&utm_content=12364776953|121612014127|aud-1415594728965:kwd-358484207511|602851051178|&semQue=null&gclid=Cj0KCQjwla-hBhD7ARIsAM9tQKvU4LDf3-r1nSrUg7XUP_qbyDvz_uI7w8OPbYTZgv8SFk_JWqnXiLUaAjf_EALw_wcB\"\n",
    "elif State == \"Maryland\":\n",
    "    listing_url = \"https://www.zillow.com/md/?utm_medium=cpc&utm_source=google&utm_content=19844225958|147527099415|aud-352785741244:kwd-358484207951|602733267327|&semQue=null&gclid=Cj0KCQjwla-hBhD7ARIsAM9tQKsOqyeMMbRnx-5r9K9bqLzPXQEcMIwYdrX4BwWWZNb8-dcRevwGXK4aAoYBEALw_wcB\"\n",
    "elif State == \"Massachusetts\":\n",
    "    listing_url = \"https://www.zillow.com/ma/?utm_medium=cpc&utm_source=google&utm_content=19844225958|147527098735|aud-1415594728965:kwd-392922248769|649039132298|&semQue=null&gclid=Cj0KCQjwla-hBhD7ARIsAM9tQKuDuG1M24ex_utGbCzFujm5B8qUE9t67xFHSdfxFv0Qxg2hElEM5e4aAl6vEALw_wc\"\n",
    "elif State == \"Michigan\":\n",
    "    listing_url = \"https://www.zillow.com/mi/?utm_medium=cpc&utm_source=google&utm_content=19844225958|147527099455|aud-298298841046:kwd-358484208191|602733267330|&semQue=null&gclid=Cj0KCQjwla-hBhD7ARIsAM9tQKsyHO69BAZNpCwtOYXhFjMpXQ8YhwpydlaWXakIUVCJMt1SGBpFKUgaAiNrEALw_wcB\"\n",
    "elif State == \"Minnesota\":\n",
    "    listing_url = \"https://www.zillow.com/mn/?utm_medium=cpc&utm_source=google&utm_content=19844225958|147527097535|aud-456022128629:kwd-308012272515|602733267300|&semQue=null&gclid=Cj0KCQjwla-hBhD7ARIsAM9tQKv90UbBg1LKnTdH-56DdQfZ84JvBj8YKax-Jh-7JQpE1A_Y0Pc-WsYaAulZEALw_wcB\"\n",
    "elif State == \"Mississippi\":\n",
    "    listing_url = \"https://www.zillow.com/ms/?utm_medium=cpc&utm_source=google&utm_content=19844225958|147527096815|aud-298298841046:kwd-484839374369|602733267354|&semQue=null&gclid=Cj0KCQjwla-hBhD7ARIsAM9tQKsS0tkVA9orgGjmbGDnaECFYn93qOini_moZr8In7LKcQw9EGMuBj8aAqC8EALw_wcB&searchQueryState=%7B%22mapBounds%22%3A%7B%22north%22%3A35.72125593396076%2C%22east%22%3A-86.08616529687501%2C%22south%22%3A29.37420940865332%2C%22west%22%3A-93.666731703125%7D%2C%22isMapVisible%22%3Atrue%2C%22filterState%22%3A%7B%22sort%22%3A%7B%22value%22%3A%22globalrelevanceex%22%7D%2C%22ah%22%3A%7B%22value%22%3Atrue%7D%7D%2C%22isListVisible%22%3Atrue%2C%22mapZoom%22%3A7%2C%22regionSelection%22%3A%5B%7B%22regionId%22%3A34%2C%22regionType%22%3A2%7D%5D%2C%22pagination%22%3A%7B%7D%7D\"\n",
    "elif State == \"Missouri\":\n",
    "    listing_url = \"https://www.zillow.com/mo/?utm_medium=cpc&utm_source=google&utm_content=19844225958|147527098775|aud-352785741284:kwd-453494087244|649039147835|&semQue=null&gclid=Cj0KCQjwla-hBhD7ARIsAM9tQKtOmwKVYiVwcPjFuUlkgWM_TLvu1aX9Nnqiehu8x-ltm8W3qVe45ZkaAtl2EALw_wcB\"\n",
    "elif State == \"Montana\":\n",
    "    listing_url = \"https://www.zillow.com/mt/?utm_medium=cpc&utm_source=google&utm_content=19844225958|147527099495|aud-352785740844:kwd-401892723332|649039132310|&semQue=null&gclid=Cj0KCQjwla-hBhD7ARIsAM9tQKuD4zPzXiW33kKt6ZDKkjM4RXLDx3e4pJM_x5rNFqj-wGdgURrYFkcaAtn3EALw_wcB\"\n",
    "elif State == \"Nebraska\":\n",
    "    listing_url = \"https://www.zillow.com/ne/?utm_medium=cpc&utm_source=google&utm_content=19844225958|147527099655|aud-352785741564:kwd-423057458070|649039132313|&semQue=null&gclid=Cj0KCQjwla-hBhD7ARIsAM9tQKvbaZXHzqroz-Dl6pCaXWwW2bx50SRfw3GLM_Vup_OfDIGoASDpuV4aAmHvEALw_wcB\"\n",
    "elif State == \"Nevada\":\n",
    "    listing_url = \"https://www.zillow.com/homes/nevada_rb/?utm_medium=cpc&utm_source=google&utm_content=12364776953|120447892000|aud-457069900685:kwd-358484209391|602850908762|&semQue=null&gclid=Cj0KCQjwla-hBhD7ARIsAM9tQKuXH9-SI6_9UBsTWVZe_DRBUWMnbGHuMzElL3icWk7tDYIFKcYeP9kaAiAfEALw_wcB\"\n",
    "elif State == \"New Hampshire\":\n",
    "    listing_url = \"https://www.zillow.com/nh/?utm_medium=cpc&utm_source=google&utm_content=19844225958|147527097015|aud-834134226151:kwd-346051782663|649039147880|&semQue=null&gclid=Cj0KCQjwla-hBhD7ARIsAM9tQKuNizI1pbTXmohFy8bKhkQ_-VH4e-Xm_IBJ2xKy2O8kg3mp3AXc9IoaAjkyEALw_wcB\"\n",
    "elif State == \"New Jersey\":\n",
    "    listing_url = \"https://www.zillow.com/nj/?utm_medium=cpc&utm_source=google&utm_content=19844225958|147527098935|aud-352785741284:kwd-319884822138|642325660472|&semQue=null&gclid=Cj0KCQjwla-hBhD7ARIsAM9tQKthrHSPo-f1fDDeGFiCHEPxt4O8zH6XLho3vCRaKvbn_g428jAkfxoaAqPTEALw_wcB\"\n",
    "elif State == \"New Mexico\":\n",
    "    listing_url = \"https://www.zillow.com/nm/?utm_medium=cpc&utm_source=google&utm_content=19844225958|147527098215|aud-352785741284:kwd-335514279566|499339726710|&semQue=null&gclid=Cj0KCQjwla-hBhD7ARIsAM9tQKskwu1bFpg5AiF7gvy9uUaz3m-gbAiVLBI0WNK_uIrmG3w9_8lZ_0QaAgKuEALw_wcB\"\n",
    "elif State == \"New York\":\n",
    "    listing_url = \"https://www.zillow.com/new-york-ny/?utm_medium=cpc&utm_source=google&utm_content=12364776953|118731479035|aud-455958732640:kwd-318899146450|602785234993|&semQue=null&gclid=Cj0KCQjwla-hBhD7ARIsAM9tQKtq8AS1ZJQB65mNbkUfF-RyVSNUNOzZoJtaQX84Qw8eQ_HAIi9okrwaAg2LEALw_wcB\"\n",
    "elif State == \"North Carolina\":\n",
    "    listing_url = \"https://www.zillow.com/nc/?utm_medium=cpc&utm_source=google&utm_content=19844225958|147527098255|aud-1415594729165:kwd-299103370265|649039132286|&semQue=null&gclid=Cj0KCQjwla-hBhD7ARIsAM9tQKteWi-Y41-ErkgpgzSemB2y451Fd6CH3RomIwt_BjXuq81oUlcQ1HYaArosEALw_wcB\"\n",
    "elif State == \"North Dakota\":\n",
    "    listing_url = \"https://www.zillow.com/nd/?utm_medium=cpc&utm_source=google&utm_content=19844225958|147527099695|aud-352785741564:kwd-470582786049|642325660694|&semQue=null&gclid=Cj0KCQjwla-hBhD7ARIsAM9tQKutxNDD7U_-2B2WfjODX8bXf6bByGo7lkruTeLw-y34ZKTcCxc01SMaArgFEALw_wcB\"\n",
    "elif State == \"Ohio\":\n",
    "    listing_url = \"https://www.zillow.com/oh/?utm_medium=cpc&utm_source=google&utm_content=19844225958|147527097295|aud-298298841046:kwd-315885433891|602733267483|&semQue=null&gclid=Cj0KCQjwla-hBhD7ARIsAM9tQKtvjKVNpB5HFYOexkcHb8prqYoH7nNBIIItF-dEDTcBYaQG8dFynroaAuNAEALw_wcB\"\n",
    "elif State == \"Oklahoma\":\n",
    "    listing_url = \"https://www.zillow.com/ok/?utm_medium=cpc&utm_source=google&utm_content=19844225958|147527099735|aud-298298841046:kwd-375709049967|602733267333|&semQue=null&gclid=Cj0KCQjwla-hBhD7ARIsAM9tQKto_QWIOW1wqy_1pclFwimU_U_VsRknxcHnPEAzde7I_rdecEynth4aAtymEALw_wcB\"\n",
    "elif State == \"Oregon\":\n",
    "    listing_url = \"https://www.zillow.com/homes/oregon_rb/?utm_medium=cpc&utm_source=google&utm_content=12364776953|113098019890|aud-456022128629:kwd-38120362785|499427116487|&semQue=null&gclid=Cj0KCQjwla-hBhD7ARIsAM9tQKvt-jlmm4Psx6jp1f4maJSUXZzUrJS3BaeC5a1zxlr_vX1eGpkm9TUaAmMsEALw_wcB\"\n",
    "elif State == \"Pennsylvania\":\n",
    "    listing_url = \"https://www.zillow.com/pa/?utm_medium=cpc&utm_source=google&utm_content=19844225958|147527098975|aud-352785741284:kwd-358071746605|602733267525|&semQue=null&gclid=Cj0KCQjwla-hBhD7ARIsAM9tQKsZu2Y7DIMGh-Nz-VJvuZBP4cDSfSnzGcQ_roCSimLpXXsWuDbQ2rcaAsirEALw_wcB\"\n",
    "elif State == \"Rhode Island\":\n",
    "    listing_url = \"https://www.zillow.com/ri/?utm_medium=cpc&utm_source=google&utm_content=19844225958|147527099215|aud-457069900685:kwd-458695435848|602733267531|&semQue=null&gclid=Cj0KCQjwla-hBhD7ARIsAM9tQKsqqc4KaDeu8QlvpLGKlKXcmZIIbB7zIJDE5GpEMJddjSsPUA3vXBkaAm01EALw_wcB\"\n",
    "elif State == \"South Carolina\":\n",
    "    listing_url = \"https://www.zillow.com/sc/?utm_medium=cpc&utm_source=google&utm_content=19844225958|147527099895|aud-1415594728965:kwd-358071749405|649039147856|&semQue=null&gclid=Cj0KCQjwla-hBhD7ARIsAM9tQKsYkfdpOEg1QS_Ivn5dYC1wnht9i1VnuZ89nIGyoxAkwxIFkyR9lZUaAt1UEALw_wcB\"\n",
    "elif State == \"South Dakota\":\n",
    "    listing_url = \"https://www.zillow.com/sd/?utm_medium=cpc&utm_source=google&utm_content=19844225958|147527097735|aud-834134226151:kwd-459757499215|602733267495|&semQue=null&gclid=Cj0KCQjwla-hBhD7ARIsAM9tQKuDapjbsNCF1m0y1hjDBlru7oNecPEQ0rmDG1UjT_Ff0A3rrRPP7WAaAmGhEALw_wcB\"\n",
    "elif State == \"Tennessee\":\n",
    "    listing_url = \"https://www.zillow.com/tn/?utm_medium=cpc&utm_source=google&utm_content=19844225958|147527099935|aud-834134226151:kwd-307090939828|649039132319|&semQue=null&gclid=Cj0KCQjwla-hBhD7ARIsAM9tQKsXbi4r3ztgW9BPlpMvDVEghNuyhe7Odja4rnGvaHTW-PzBt1qLxfgaAtkoEALw_wcB\"\n",
    "elif State == \"Texas\":\n",
    "    listing_url = \"https://www.zillow.com/tx/?utm_medium=cpc&utm_source=google&utm_content=19844225958|147527100655|aud-457069900685:kwd-337260393099|602733267558|&semQue=null&gclid=Cj0KCQjwla-hBhD7ARIsAM9tQKs4wXWEzeqk5syDdT0JDDSM3lzxapQOE4Vf3yz8Y9h-yUTZV1MVQRoaAjZKEALw_wcB\"\n",
    "elif State == \"Utah\":\n",
    "    listing_url = \"https://www.zillow.com/ut/?searchQueryState=%7B%22pagination%22%3A%7B%7D%2C%22mapBounds%22%3A%7B%22north%22%3A42.178175596465984%2C%22south%22%3A36.80765046687387%2C%22east%22%3A-107.75674479687501%2C%22west%22%3A-115.33731120312501%7D%2C%22regionSelection%22%3A%5B%7B%22regionId%22%3A55%2C%22regionType%22%3A2%7D%5D%2C%22isMapVisible%22%3Atrue%2C%22filterState%22%3A%7B%22sort%22%3A%7B%22value%22%3A%22globalrelevanceex%22%7D%2C%22ah%22%3A%7B%22value%22%3Atrue%7D%7D%2C%22isListVisible%22%3Atrue%2C%22mapZoom%22%3A7%7D\"\n",
    "elif State == \"Vermont\":\n",
    "    listing_url = \"https://www.zillow.com/vt/?utm_medium=cpc&utm_source=google&utm_content=19844225958|147527098455|aud-352785741244:kwd-332330356282|499339726779|&semQue=null&gclid=Cj0KCQjwla-hBhD7ARIsAM9tQKsQZvt-8CjQyc4RKCb16sfC5vb5bwj7lcp-Nk3kYvO6Ks5ucQkKpR0aAi7AEALw_wcB\"\n",
    "elif State == \"Virginia\":\n",
    "    listing_url = \"https://www.zillow.com/homes/virginia_rb/?utm_medium=cpc&utm_source=google&utm_content=12364776953|113098131290|aud-298298841046:kwd-329345169521|648926679114|&semQue=null&gclid=Cj0KCQjwla-hBhD7ARIsAM9tQKs7FRQVuAHlAxqtCsb0Gm9eV5kt556VyCFtnIGLGoAFWMaeDU8tHhEaAh_GEALw_wcB\"\n",
    "elif State == \"Washington\":\n",
    "    listing_url = \"https://www.zillow.com/wa/?searchQueryState=%7B%22usersSearchTerm%22%3A%22617%20Washintgon%20St%20Erwin%2C%20TN%2037650%22%2C%22mapBounds%22%3A%7B%22north%22%3A52.16693244079027%2C%22east%22%3A-113.30171059375002%2C%22south%22%3A41.942832002083634%2C%22west%22%3A-128.46284340625002%7D%2C%22isMapVisible%22%3Atrue%2C%22filterState%22%3A%7B%22sort%22%3A%7B%22value%22%3A%22globalrelevanceex%22%7D%2C%22ah%22%3A%7B%22value%22%3Atrue%7D%7D%2C%22isListVisible%22%3Atrue%2C%22mapZoom%22%3A6%2C%22regionSelection%22%3A%5B%7B%22regionId%22%3A59%2C%22regionType%22%3A2%7D%5D%2C%22pagination%22%3A%7B%7D%7D\"\n",
    "elif State == \"West Virginia\":\n",
    "    listing_url = \"https://www.zillow.com/wv/?utm_medium=cpc&utm_source=google&utm_content=19844225958|147527099015|aud-834134226151:kwd-343272620307|499339727025|&semQue=null&gclid=Cj0KCQjwla-hBhD7ARIsAM9tQKv_Lh2fnTNywED9MPT4Fc-jVGMGVjmJjiewHdwsevnmOUQJy3jKwmwaAkxHEALw_wcB\"\n",
    "elif State == \"Wisconsin\":\n",
    "    listing_url = \"https://www.zillow.com/wi/?utm_medium=cpc&utm_source=google&utm_content=19844225958|147527097055|aud-352785740844:kwd-431672404299|602733267291|&semQue=null&gclid=Cj0KCQjwla-hBhD7ARIsAM9tQKuV3oP5SvdSWeROjt_5scQGYGEmiBW6VnKZ8SVzjunjIh1XiYl7474aAvoHEALw_wcB\"\n",
    "elif State == \"Wyoming\":\n",
    "    listing_url = \"https://www.zillow.com/homes/wyoming_rb/?utm_medium=cpc&utm_source=google&utm_content=12364776953|113098035970|aud-326276312521:kwd-425587534741|602732519922|&semQue=null&gclid=Cj0KCQjwla-hBhD7ARIsAM9tQKtOg8roQ01T9PudSxhYvizEboUWZVyNmk95Il_XejGqt5YijtRyjSsaAp-nEALw_wcB\"\n",
    "\n",
    "\n",
    "#retrieve the listings\n",
    "listing_response = get_listings(api_key, listing_url)"
   ]
  },
  {
   "cell_type": "code",
   "execution_count": 63,
   "metadata": {},
   "outputs": [
    {
     "data": {
      "text/plain": [
       "dict_keys(['is_success', 'data', 'message'])"
      ]
     },
     "execution_count": 63,
     "metadata": {},
     "output_type": "execute_result"
    }
   ],
   "source": [
    "\n",
    "# view all keys\n",
    "listing_response.json().keys()"
   ]
  },
  {
   "cell_type": "code",
   "execution_count": 64,
   "metadata": {},
   "outputs": [
    {
     "data": {
      "text/plain": [
       "True"
      ]
     },
     "execution_count": 64,
     "metadata": {},
     "output_type": "execute_result"
    }
   ],
   "source": [
    "\n",
    "# check if request is successful\n",
    "listing_response.json()[\"is_success\"]"
   ]
  },
  {
   "cell_type": "code",
   "execution_count": 65,
   "metadata": {},
   "outputs": [
    {
     "name": "stdout",
     "output_type": "stream",
     "text": [
      "Count of properties: 552\n"
     ]
    }
   ],
   "source": [
    "# view count of properies returned in request\n",
    "num_of_properties = listing_response.json()[\"data\"][\"categoryTotals\"][\"cat1\"][\"totalResultCount\"]\n",
    "print(\"Count of properties:\", num_of_properties)"
   ]
  },
  {
   "cell_type": "code",
   "execution_count": 66,
   "metadata": {},
   "outputs": [
    {
     "name": "stdout",
     "output_type": "stream",
     "text": [
      "Number of rows: 445\n",
      "Number of columns: 94\n"
     ]
    },
    {
     "data": {
      "text/html": [
       "<div>\n",
       "<style scoped>\n",
       "    .dataframe tbody tr th:only-of-type {\n",
       "        vertical-align: middle;\n",
       "    }\n",
       "\n",
       "    .dataframe tbody tr th {\n",
       "        vertical-align: top;\n",
       "    }\n",
       "\n",
       "    .dataframe thead th {\n",
       "        text-align: right;\n",
       "    }\n",
       "</style>\n",
       "<table border=\"1\" class=\"dataframe\">\n",
       "  <thead>\n",
       "    <tr style=\"text-align: right;\">\n",
       "      <th></th>\n",
       "      <th>zpid</th>\n",
       "      <th>price</th>\n",
       "      <th>priceLabel</th>\n",
       "      <th>beds</th>\n",
       "      <th>baths</th>\n",
       "      <th>area</th>\n",
       "      <th>statusType</th>\n",
       "      <th>statusText</th>\n",
       "      <th>isFavorite</th>\n",
       "      <th>isUserClaimingOwner</th>\n",
       "      <th>isUserConfirmedClaim</th>\n",
       "      <th>imgSrc</th>\n",
       "      <th>hasImage</th>\n",
       "      <th>visited</th>\n",
       "      <th>listingType</th>\n",
       "      <th>shouldShowZestimateAsPrice</th>\n",
       "      <th>detailUrl</th>\n",
       "      <th>pgapt</th>\n",
       "      <th>sgapt</th>\n",
       "      <th>has3DModel</th>\n",
       "      <th>hasVideo</th>\n",
       "      <th>isHomeRec</th>\n",
       "      <th>address</th>\n",
       "      <th>hasAdditionalAttributions</th>\n",
       "      <th>isFeaturedListing</th>\n",
       "      <th>isShowcaseListing</th>\n",
       "      <th>availabilityDate</th>\n",
       "      <th>timeOnZillow</th>\n",
       "      <th>latLong.latitude</th>\n",
       "      <th>latLong.longitude</th>\n",
       "      <th>variableData.type</th>\n",
       "      <th>variableData.text</th>\n",
       "      <th>variableData.data.isFresh</th>\n",
       "      <th>hdpData.homeInfo.zpid</th>\n",
       "      <th>hdpData.homeInfo.zipcode</th>\n",
       "      <th>hdpData.homeInfo.city</th>\n",
       "      <th>hdpData.homeInfo.state</th>\n",
       "      <th>hdpData.homeInfo.latitude</th>\n",
       "      <th>hdpData.homeInfo.longitude</th>\n",
       "      <th>hdpData.homeInfo.price</th>\n",
       "      <th>hdpData.homeInfo.bathrooms</th>\n",
       "      <th>hdpData.homeInfo.bedrooms</th>\n",
       "      <th>hdpData.homeInfo.homeType</th>\n",
       "      <th>hdpData.homeInfo.homeStatus</th>\n",
       "      <th>hdpData.homeInfo.daysOnZillow</th>\n",
       "      <th>hdpData.homeInfo.isFeatured</th>\n",
       "      <th>hdpData.homeInfo.shouldHighlight</th>\n",
       "      <th>hdpData.homeInfo.zestimate</th>\n",
       "      <th>hdpData.homeInfo.rentZestimate</th>\n",
       "      <th>hdpData.homeInfo.listing_sub_type.is_FSBA</th>\n",
       "      <th>hdpData.homeInfo.isUnmappable</th>\n",
       "      <th>hdpData.homeInfo.isPreforeclosureAuction</th>\n",
       "      <th>hdpData.homeInfo.homeStatusForHDP</th>\n",
       "      <th>hdpData.homeInfo.priceForHDP</th>\n",
       "      <th>hdpData.homeInfo.isNonOwnerOccupied</th>\n",
       "      <th>hdpData.homeInfo.isPremierBuilder</th>\n",
       "      <th>hdpData.homeInfo.isZillowOwned</th>\n",
       "      <th>hdpData.homeInfo.currency</th>\n",
       "      <th>hdpData.homeInfo.country</th>\n",
       "      <th>hdpData.homeInfo.taxAssessedValue</th>\n",
       "      <th>hdpData.homeInfo.lotAreaValue</th>\n",
       "      <th>hdpData.homeInfo.lotAreaUnit</th>\n",
       "      <th>hdpData.homeInfo.livingArea</th>\n",
       "      <th>hdpData.homeInfo.listing_sub_type.is_openHouse</th>\n",
       "      <th>hdpData.homeInfo.openHouse</th>\n",
       "      <th>hdpData.homeInfo.open_house_info.open_house_showing</th>\n",
       "      <th>variableData</th>\n",
       "      <th>hdpData.homeInfo.unit</th>\n",
       "      <th>hdpData.homeInfo.datePriceChanged</th>\n",
       "      <th>hdpData.homeInfo.priceReduction</th>\n",
       "      <th>hdpData.homeInfo.priceChange</th>\n",
       "      <th>hdpData.homeInfo.videoCount</th>\n",
       "      <th>info3String</th>\n",
       "      <th>hdpData.homeInfo.listing_sub_type.is_newHome</th>\n",
       "      <th>hdpData.homeInfo.newConstructionType</th>\n",
       "      <th>lotAreaString</th>\n",
       "      <th>buildingId</th>\n",
       "      <th>lotId</th>\n",
       "      <th>minBeds</th>\n",
       "      <th>minBaths</th>\n",
       "      <th>minArea</th>\n",
       "      <th>unitCount</th>\n",
       "      <th>isBuilding</th>\n",
       "      <th>badgeInfo</th>\n",
       "      <th>canSaveBuilding</th>\n",
       "      <th>communityName</th>\n",
       "      <th>hdpData.homeInfo.providerListingID</th>\n",
       "      <th>hdpData.homeInfo.listing_sub_type.is_comingSoon</th>\n",
       "      <th>plid</th>\n",
       "      <th>style</th>\n",
       "      <th>isCdpResult</th>\n",
       "      <th>isPropertyResultCDP</th>\n",
       "      <th>hdpData.homeInfo.group_type</th>\n",
       "      <th>hdpData.homeInfo.priceSuffix</th>\n",
       "    </tr>\n",
       "  </thead>\n",
       "  <tbody>\n",
       "    <tr>\n",
       "      <th>0</th>\n",
       "      <td>23545636</td>\n",
       "      <td>$525,000</td>\n",
       "      <td>$525K</td>\n",
       "      <td>4.0</td>\n",
       "      <td>3.0</td>\n",
       "      <td>NaN</td>\n",
       "      <td>FOR_SALE</td>\n",
       "      <td>House for sale</td>\n",
       "      <td>False</td>\n",
       "      <td>False</td>\n",
       "      <td>False</td>\n",
       "      <td>https://photos.zillowstatic.com/fp/004f7bea228...</td>\n",
       "      <td>True</td>\n",
       "      <td>False</td>\n",
       "      <td></td>\n",
       "      <td>False</td>\n",
       "      <td>/homedetails/8409-N-Weipert-Dr-Spokane-WA-9920...</td>\n",
       "      <td>ForSale</td>\n",
       "      <td>For Sale (Broker)</td>\n",
       "      <td>False</td>\n",
       "      <td>False</td>\n",
       "      <td>False</td>\n",
       "      <td>--</td>\n",
       "      <td>False</td>\n",
       "      <td>False</td>\n",
       "      <td>False</td>\n",
       "      <td>NaN</td>\n",
       "      <td>2.881858e+06</td>\n",
       "      <td>47.734270</td>\n",
       "      <td>-117.41680</td>\n",
       "      <td>TIME_ON_INFO</td>\n",
       "      <td>48 minutes ago</td>\n",
       "      <td>False</td>\n",
       "      <td>2.354564e+07</td>\n",
       "      <td>99208</td>\n",
       "      <td>Spokane</td>\n",
       "      <td>WA</td>\n",
       "      <td>47.734270</td>\n",
       "      <td>-117.41680</td>\n",
       "      <td>525000.0</td>\n",
       "      <td>3.0</td>\n",
       "      <td>4.0</td>\n",
       "      <td>SINGLE_FAMILY</td>\n",
       "      <td>FOR_SALE</td>\n",
       "      <td>-1.0</td>\n",
       "      <td>False</td>\n",
       "      <td>False</td>\n",
       "      <td>394800.0</td>\n",
       "      <td>1763.0</td>\n",
       "      <td>True</td>\n",
       "      <td>False</td>\n",
       "      <td>False</td>\n",
       "      <td>FOR_SALE</td>\n",
       "      <td>525000.0</td>\n",
       "      <td>True</td>\n",
       "      <td>False</td>\n",
       "      <td>False</td>\n",
       "      <td>USD</td>\n",
       "      <td>USA</td>\n",
       "      <td>319700.0</td>\n",
       "      <td>0.26</td>\n",
       "      <td>acres</td>\n",
       "      <td>NaN</td>\n",
       "      <td>NaN</td>\n",
       "      <td>NaN</td>\n",
       "      <td>NaN</td>\n",
       "      <td>NaN</td>\n",
       "      <td>NaN</td>\n",
       "      <td>NaN</td>\n",
       "      <td>NaN</td>\n",
       "      <td>NaN</td>\n",
       "      <td>NaN</td>\n",
       "      <td>NaN</td>\n",
       "      <td>NaN</td>\n",
       "      <td>NaN</td>\n",
       "      <td>NaN</td>\n",
       "      <td>NaN</td>\n",
       "      <td>NaN</td>\n",
       "      <td>NaN</td>\n",
       "      <td>NaN</td>\n",
       "      <td>NaN</td>\n",
       "      <td>NaN</td>\n",
       "      <td>NaN</td>\n",
       "      <td>NaN</td>\n",
       "      <td>NaN</td>\n",
       "      <td>NaN</td>\n",
       "      <td>NaN</td>\n",
       "      <td>NaN</td>\n",
       "      <td>NaN</td>\n",
       "      <td>NaN</td>\n",
       "      <td>NaN</td>\n",
       "      <td>NaN</td>\n",
       "      <td>NaN</td>\n",
       "      <td>NaN</td>\n",
       "    </tr>\n",
       "    <tr>\n",
       "      <th>1</th>\n",
       "      <td>23485189</td>\n",
       "      <td>$128,000</td>\n",
       "      <td>$128K</td>\n",
       "      <td>3.0</td>\n",
       "      <td>2.0</td>\n",
       "      <td>1112.0</td>\n",
       "      <td>FOR_SALE</td>\n",
       "      <td>Home for sale</td>\n",
       "      <td>False</td>\n",
       "      <td>False</td>\n",
       "      <td>False</td>\n",
       "      <td>https://photos.zillowstatic.com/fp/f8011994041...</td>\n",
       "      <td>True</td>\n",
       "      <td>False</td>\n",
       "      <td></td>\n",
       "      <td>False</td>\n",
       "      <td>/homedetails/2603-S-Chestnut-St-Spokane-WA-992...</td>\n",
       "      <td>ForSale</td>\n",
       "      <td>For Sale (Broker)</td>\n",
       "      <td>False</td>\n",
       "      <td>False</td>\n",
       "      <td>False</td>\n",
       "      <td>--</td>\n",
       "      <td>False</td>\n",
       "      <td>False</td>\n",
       "      <td>False</td>\n",
       "      <td>NaN</td>\n",
       "      <td>9.331876e+06</td>\n",
       "      <td>47.630840</td>\n",
       "      <td>-117.44255</td>\n",
       "      <td>TIME_ON_INFO</td>\n",
       "      <td>2 hours ago</td>\n",
       "      <td>False</td>\n",
       "      <td>2.348519e+07</td>\n",
       "      <td>99224</td>\n",
       "      <td>Spokane</td>\n",
       "      <td>WA</td>\n",
       "      <td>47.630840</td>\n",
       "      <td>-117.44255</td>\n",
       "      <td>128000.0</td>\n",
       "      <td>2.0</td>\n",
       "      <td>3.0</td>\n",
       "      <td>MANUFACTURED</td>\n",
       "      <td>FOR_SALE</td>\n",
       "      <td>-1.0</td>\n",
       "      <td>False</td>\n",
       "      <td>False</td>\n",
       "      <td>124952.0</td>\n",
       "      <td>434.0</td>\n",
       "      <td>True</td>\n",
       "      <td>False</td>\n",
       "      <td>False</td>\n",
       "      <td>FOR_SALE</td>\n",
       "      <td>128000.0</td>\n",
       "      <td>True</td>\n",
       "      <td>False</td>\n",
       "      <td>False</td>\n",
       "      <td>USD</td>\n",
       "      <td>USA</td>\n",
       "      <td>78500.0</td>\n",
       "      <td>0.27</td>\n",
       "      <td>acres</td>\n",
       "      <td>1112.0</td>\n",
       "      <td>NaN</td>\n",
       "      <td>NaN</td>\n",
       "      <td>NaN</td>\n",
       "      <td>NaN</td>\n",
       "      <td>NaN</td>\n",
       "      <td>NaN</td>\n",
       "      <td>NaN</td>\n",
       "      <td>NaN</td>\n",
       "      <td>NaN</td>\n",
       "      <td>NaN</td>\n",
       "      <td>NaN</td>\n",
       "      <td>NaN</td>\n",
       "      <td>NaN</td>\n",
       "      <td>NaN</td>\n",
       "      <td>NaN</td>\n",
       "      <td>NaN</td>\n",
       "      <td>NaN</td>\n",
       "      <td>NaN</td>\n",
       "      <td>NaN</td>\n",
       "      <td>NaN</td>\n",
       "      <td>NaN</td>\n",
       "      <td>NaN</td>\n",
       "      <td>NaN</td>\n",
       "      <td>NaN</td>\n",
       "      <td>NaN</td>\n",
       "      <td>NaN</td>\n",
       "      <td>NaN</td>\n",
       "      <td>NaN</td>\n",
       "      <td>NaN</td>\n",
       "      <td>NaN</td>\n",
       "      <td>NaN</td>\n",
       "    </tr>\n",
       "    <tr>\n",
       "      <th>2</th>\n",
       "      <td>116407099</td>\n",
       "      <td>$729,900</td>\n",
       "      <td>$730K</td>\n",
       "      <td>3.0</td>\n",
       "      <td>3.0</td>\n",
       "      <td>1832.0</td>\n",
       "      <td>FOR_SALE</td>\n",
       "      <td>House for sale</td>\n",
       "      <td>False</td>\n",
       "      <td>False</td>\n",
       "      <td>False</td>\n",
       "      <td>https://photos.zillowstatic.com/fp/1856632abf7...</td>\n",
       "      <td>True</td>\n",
       "      <td>False</td>\n",
       "      <td></td>\n",
       "      <td>False</td>\n",
       "      <td>/homedetails/1932-W-Summit-Pkwy-Spokane-WA-992...</td>\n",
       "      <td>ForSale</td>\n",
       "      <td>For Sale (Broker)</td>\n",
       "      <td>False</td>\n",
       "      <td>False</td>\n",
       "      <td>False</td>\n",
       "      <td>--</td>\n",
       "      <td>False</td>\n",
       "      <td>False</td>\n",
       "      <td>False</td>\n",
       "      <td>NaN</td>\n",
       "      <td>9.452232e+07</td>\n",
       "      <td>47.662056</td>\n",
       "      <td>-117.44161</td>\n",
       "      <td>OPEN_HOUSE</td>\n",
       "      <td>Open: Sat. 10am-12pm</td>\n",
       "      <td>NaN</td>\n",
       "      <td>1.164071e+08</td>\n",
       "      <td>99201</td>\n",
       "      <td>Spokane</td>\n",
       "      <td>WA</td>\n",
       "      <td>47.662056</td>\n",
       "      <td>-117.44161</td>\n",
       "      <td>729900.0</td>\n",
       "      <td>3.0</td>\n",
       "      <td>3.0</td>\n",
       "      <td>SINGLE_FAMILY</td>\n",
       "      <td>FOR_SALE</td>\n",
       "      <td>-1.0</td>\n",
       "      <td>False</td>\n",
       "      <td>False</td>\n",
       "      <td>NaN</td>\n",
       "      <td>NaN</td>\n",
       "      <td>True</td>\n",
       "      <td>False</td>\n",
       "      <td>False</td>\n",
       "      <td>FOR_SALE</td>\n",
       "      <td>729900.0</td>\n",
       "      <td>True</td>\n",
       "      <td>False</td>\n",
       "      <td>False</td>\n",
       "      <td>USD</td>\n",
       "      <td>USA</td>\n",
       "      <td>451900.0</td>\n",
       "      <td>2613.60</td>\n",
       "      <td>sqft</td>\n",
       "      <td>1832.0</td>\n",
       "      <td>True</td>\n",
       "      <td>Sat. 10am-12pm</td>\n",
       "      <td>[{'open_house_start': 1680973200000, 'open_hou...</td>\n",
       "      <td>NaN</td>\n",
       "      <td>NaN</td>\n",
       "      <td>NaN</td>\n",
       "      <td>NaN</td>\n",
       "      <td>NaN</td>\n",
       "      <td>NaN</td>\n",
       "      <td>NaN</td>\n",
       "      <td>NaN</td>\n",
       "      <td>NaN</td>\n",
       "      <td>NaN</td>\n",
       "      <td>NaN</td>\n",
       "      <td>NaN</td>\n",
       "      <td>NaN</td>\n",
       "      <td>NaN</td>\n",
       "      <td>NaN</td>\n",
       "      <td>NaN</td>\n",
       "      <td>NaN</td>\n",
       "      <td>NaN</td>\n",
       "      <td>NaN</td>\n",
       "      <td>NaN</td>\n",
       "      <td>NaN</td>\n",
       "      <td>NaN</td>\n",
       "      <td>NaN</td>\n",
       "      <td>NaN</td>\n",
       "      <td>NaN</td>\n",
       "      <td>NaN</td>\n",
       "      <td>NaN</td>\n",
       "      <td>NaN</td>\n",
       "    </tr>\n",
       "    <tr>\n",
       "      <th>3</th>\n",
       "      <td>23516843</td>\n",
       "      <td>$334,900</td>\n",
       "      <td>$335K</td>\n",
       "      <td>4.0</td>\n",
       "      <td>2.0</td>\n",
       "      <td>1566.0</td>\n",
       "      <td>FOR_SALE</td>\n",
       "      <td>House for sale</td>\n",
       "      <td>False</td>\n",
       "      <td>False</td>\n",
       "      <td>False</td>\n",
       "      <td>https://photos.zillowstatic.com/fp/99e8ef19011...</td>\n",
       "      <td>True</td>\n",
       "      <td>False</td>\n",
       "      <td></td>\n",
       "      <td>False</td>\n",
       "      <td>/homedetails/1910-E-Marshall-Ave-Spokane-WA-99...</td>\n",
       "      <td>ForSale</td>\n",
       "      <td>For Sale (Broker)</td>\n",
       "      <td>False</td>\n",
       "      <td>False</td>\n",
       "      <td>False</td>\n",
       "      <td>--</td>\n",
       "      <td>False</td>\n",
       "      <td>False</td>\n",
       "      <td>False</td>\n",
       "      <td>NaN</td>\n",
       "      <td>1.232194e+07</td>\n",
       "      <td>47.673670</td>\n",
       "      <td>-117.38117</td>\n",
       "      <td>OPEN_HOUSE</td>\n",
       "      <td>Open: Sat. 1-3pm</td>\n",
       "      <td>NaN</td>\n",
       "      <td>2.351684e+07</td>\n",
       "      <td>99207</td>\n",
       "      <td>Spokane</td>\n",
       "      <td>WA</td>\n",
       "      <td>47.673670</td>\n",
       "      <td>-117.38117</td>\n",
       "      <td>334900.0</td>\n",
       "      <td>2.0</td>\n",
       "      <td>4.0</td>\n",
       "      <td>SINGLE_FAMILY</td>\n",
       "      <td>FOR_SALE</td>\n",
       "      <td>-1.0</td>\n",
       "      <td>False</td>\n",
       "      <td>False</td>\n",
       "      <td>334902.0</td>\n",
       "      <td>1980.0</td>\n",
       "      <td>True</td>\n",
       "      <td>False</td>\n",
       "      <td>False</td>\n",
       "      <td>FOR_SALE</td>\n",
       "      <td>334900.0</td>\n",
       "      <td>True</td>\n",
       "      <td>False</td>\n",
       "      <td>False</td>\n",
       "      <td>USD</td>\n",
       "      <td>USA</td>\n",
       "      <td>212400.0</td>\n",
       "      <td>0.26</td>\n",
       "      <td>acres</td>\n",
       "      <td>1566.0</td>\n",
       "      <td>True</td>\n",
       "      <td>Sat. 1-3pm</td>\n",
       "      <td>[{'open_house_start': 1680984000000, 'open_hou...</td>\n",
       "      <td>NaN</td>\n",
       "      <td>NaN</td>\n",
       "      <td>NaN</td>\n",
       "      <td>NaN</td>\n",
       "      <td>NaN</td>\n",
       "      <td>NaN</td>\n",
       "      <td>NaN</td>\n",
       "      <td>NaN</td>\n",
       "      <td>NaN</td>\n",
       "      <td>NaN</td>\n",
       "      <td>NaN</td>\n",
       "      <td>NaN</td>\n",
       "      <td>NaN</td>\n",
       "      <td>NaN</td>\n",
       "      <td>NaN</td>\n",
       "      <td>NaN</td>\n",
       "      <td>NaN</td>\n",
       "      <td>NaN</td>\n",
       "      <td>NaN</td>\n",
       "      <td>NaN</td>\n",
       "      <td>NaN</td>\n",
       "      <td>NaN</td>\n",
       "      <td>NaN</td>\n",
       "      <td>NaN</td>\n",
       "      <td>NaN</td>\n",
       "      <td>NaN</td>\n",
       "      <td>NaN</td>\n",
       "      <td>NaN</td>\n",
       "    </tr>\n",
       "    <tr>\n",
       "      <th>4</th>\n",
       "      <td>23514144</td>\n",
       "      <td>$269,999</td>\n",
       "      <td>$270K</td>\n",
       "      <td>3.0</td>\n",
       "      <td>2.0</td>\n",
       "      <td>1382.0</td>\n",
       "      <td>FOR_SALE</td>\n",
       "      <td>House for sale</td>\n",
       "      <td>False</td>\n",
       "      <td>False</td>\n",
       "      <td>False</td>\n",
       "      <td>https://photos.zillowstatic.com/fp/c0b1f39d9d0...</td>\n",
       "      <td>True</td>\n",
       "      <td>False</td>\n",
       "      <td></td>\n",
       "      <td>False</td>\n",
       "      <td>/homedetails/2115-N-Madison-St-Spokane-WA-9920...</td>\n",
       "      <td>ForSale</td>\n",
       "      <td>For Sale (Broker)</td>\n",
       "      <td>False</td>\n",
       "      <td>False</td>\n",
       "      <td>False</td>\n",
       "      <td>--</td>\n",
       "      <td>False</td>\n",
       "      <td>False</td>\n",
       "      <td>False</td>\n",
       "      <td>NaN</td>\n",
       "      <td>1.113468e+08</td>\n",
       "      <td>47.677273</td>\n",
       "      <td>-117.42847</td>\n",
       "      <td>NaN</td>\n",
       "      <td>NaN</td>\n",
       "      <td>NaN</td>\n",
       "      <td>2.351414e+07</td>\n",
       "      <td>99205</td>\n",
       "      <td>Spokane</td>\n",
       "      <td>WA</td>\n",
       "      <td>47.677273</td>\n",
       "      <td>-117.42847</td>\n",
       "      <td>269999.0</td>\n",
       "      <td>2.0</td>\n",
       "      <td>3.0</td>\n",
       "      <td>SINGLE_FAMILY</td>\n",
       "      <td>FOR_SALE</td>\n",
       "      <td>-1.0</td>\n",
       "      <td>False</td>\n",
       "      <td>False</td>\n",
       "      <td>270000.0</td>\n",
       "      <td>1834.0</td>\n",
       "      <td>True</td>\n",
       "      <td>False</td>\n",
       "      <td>False</td>\n",
       "      <td>FOR_SALE</td>\n",
       "      <td>269999.0</td>\n",
       "      <td>True</td>\n",
       "      <td>False</td>\n",
       "      <td>False</td>\n",
       "      <td>USD</td>\n",
       "      <td>USA</td>\n",
       "      <td>167800.0</td>\n",
       "      <td>2178.00</td>\n",
       "      <td>sqft</td>\n",
       "      <td>1382.0</td>\n",
       "      <td>NaN</td>\n",
       "      <td>NaN</td>\n",
       "      <td>NaN</td>\n",
       "      <td>NaN</td>\n",
       "      <td>NaN</td>\n",
       "      <td>NaN</td>\n",
       "      <td>NaN</td>\n",
       "      <td>NaN</td>\n",
       "      <td>NaN</td>\n",
       "      <td>NaN</td>\n",
       "      <td>NaN</td>\n",
       "      <td>NaN</td>\n",
       "      <td>NaN</td>\n",
       "      <td>NaN</td>\n",
       "      <td>NaN</td>\n",
       "      <td>NaN</td>\n",
       "      <td>NaN</td>\n",
       "      <td>NaN</td>\n",
       "      <td>NaN</td>\n",
       "      <td>NaN</td>\n",
       "      <td>NaN</td>\n",
       "      <td>NaN</td>\n",
       "      <td>NaN</td>\n",
       "      <td>NaN</td>\n",
       "      <td>NaN</td>\n",
       "      <td>NaN</td>\n",
       "      <td>NaN</td>\n",
       "      <td>NaN</td>\n",
       "      <td>NaN</td>\n",
       "      <td>NaN</td>\n",
       "      <td>NaN</td>\n",
       "    </tr>\n",
       "    <tr>\n",
       "      <th>...</th>\n",
       "      <td>...</td>\n",
       "      <td>...</td>\n",
       "      <td>...</td>\n",
       "      <td>...</td>\n",
       "      <td>...</td>\n",
       "      <td>...</td>\n",
       "      <td>...</td>\n",
       "      <td>...</td>\n",
       "      <td>...</td>\n",
       "      <td>...</td>\n",
       "      <td>...</td>\n",
       "      <td>...</td>\n",
       "      <td>...</td>\n",
       "      <td>...</td>\n",
       "      <td>...</td>\n",
       "      <td>...</td>\n",
       "      <td>...</td>\n",
       "      <td>...</td>\n",
       "      <td>...</td>\n",
       "      <td>...</td>\n",
       "      <td>...</td>\n",
       "      <td>...</td>\n",
       "      <td>...</td>\n",
       "      <td>...</td>\n",
       "      <td>...</td>\n",
       "      <td>...</td>\n",
       "      <td>...</td>\n",
       "      <td>...</td>\n",
       "      <td>...</td>\n",
       "      <td>...</td>\n",
       "      <td>...</td>\n",
       "      <td>...</td>\n",
       "      <td>...</td>\n",
       "      <td>...</td>\n",
       "      <td>...</td>\n",
       "      <td>...</td>\n",
       "      <td>...</td>\n",
       "      <td>...</td>\n",
       "      <td>...</td>\n",
       "      <td>...</td>\n",
       "      <td>...</td>\n",
       "      <td>...</td>\n",
       "      <td>...</td>\n",
       "      <td>...</td>\n",
       "      <td>...</td>\n",
       "      <td>...</td>\n",
       "      <td>...</td>\n",
       "      <td>...</td>\n",
       "      <td>...</td>\n",
       "      <td>...</td>\n",
       "      <td>...</td>\n",
       "      <td>...</td>\n",
       "      <td>...</td>\n",
       "      <td>...</td>\n",
       "      <td>...</td>\n",
       "      <td>...</td>\n",
       "      <td>...</td>\n",
       "      <td>...</td>\n",
       "      <td>...</td>\n",
       "      <td>...</td>\n",
       "      <td>...</td>\n",
       "      <td>...</td>\n",
       "      <td>...</td>\n",
       "      <td>...</td>\n",
       "      <td>...</td>\n",
       "      <td>...</td>\n",
       "      <td>...</td>\n",
       "      <td>...</td>\n",
       "      <td>...</td>\n",
       "      <td>...</td>\n",
       "      <td>...</td>\n",
       "      <td>...</td>\n",
       "      <td>...</td>\n",
       "      <td>...</td>\n",
       "      <td>...</td>\n",
       "      <td>...</td>\n",
       "      <td>...</td>\n",
       "      <td>...</td>\n",
       "      <td>...</td>\n",
       "      <td>...</td>\n",
       "      <td>...</td>\n",
       "      <td>...</td>\n",
       "      <td>...</td>\n",
       "      <td>...</td>\n",
       "      <td>...</td>\n",
       "      <td>...</td>\n",
       "      <td>...</td>\n",
       "      <td>...</td>\n",
       "      <td>...</td>\n",
       "      <td>...</td>\n",
       "      <td>...</td>\n",
       "      <td>...</td>\n",
       "      <td>...</td>\n",
       "      <td>...</td>\n",
       "    </tr>\n",
       "    <tr>\n",
       "      <th>440</th>\n",
       "      <td>23480335</td>\n",
       "      <td>$119,000</td>\n",
       "      <td>$119K</td>\n",
       "      <td>NaN</td>\n",
       "      <td>NaN</td>\n",
       "      <td>NaN</td>\n",
       "      <td>FOR_SALE</td>\n",
       "      <td>Lot / Land for sale</td>\n",
       "      <td>False</td>\n",
       "      <td>False</td>\n",
       "      <td>False</td>\n",
       "      <td>https://photos.zillowstatic.com/fp/ce6921703fc...</td>\n",
       "      <td>True</td>\n",
       "      <td>False</td>\n",
       "      <td></td>\n",
       "      <td>False</td>\n",
       "      <td>/homedetails/1817-W-Chelan-Ave-Spokane-WA-9920...</td>\n",
       "      <td>ForSale</td>\n",
       "      <td>For Sale (Broker)</td>\n",
       "      <td>False</td>\n",
       "      <td>False</td>\n",
       "      <td>False</td>\n",
       "      <td>--</td>\n",
       "      <td>False</td>\n",
       "      <td>False</td>\n",
       "      <td>False</td>\n",
       "      <td>NaN</td>\n",
       "      <td>1.451853e+10</td>\n",
       "      <td>47.681873</td>\n",
       "      <td>-117.43932</td>\n",
       "      <td>NaN</td>\n",
       "      <td>NaN</td>\n",
       "      <td>NaN</td>\n",
       "      <td>2.348034e+07</td>\n",
       "      <td>99205</td>\n",
       "      <td>Spokane</td>\n",
       "      <td>WA</td>\n",
       "      <td>47.681873</td>\n",
       "      <td>-117.43932</td>\n",
       "      <td>119000.0</td>\n",
       "      <td>NaN</td>\n",
       "      <td>NaN</td>\n",
       "      <td>LOT</td>\n",
       "      <td>FOR_SALE</td>\n",
       "      <td>-1.0</td>\n",
       "      <td>False</td>\n",
       "      <td>False</td>\n",
       "      <td>NaN</td>\n",
       "      <td>NaN</td>\n",
       "      <td>True</td>\n",
       "      <td>False</td>\n",
       "      <td>False</td>\n",
       "      <td>FOR_SALE</td>\n",
       "      <td>119000.0</td>\n",
       "      <td>True</td>\n",
       "      <td>False</td>\n",
       "      <td>False</td>\n",
       "      <td>USD</td>\n",
       "      <td>USA</td>\n",
       "      <td>35000.0</td>\n",
       "      <td>6098.40</td>\n",
       "      <td>sqft</td>\n",
       "      <td>NaN</td>\n",
       "      <td>NaN</td>\n",
       "      <td>NaN</td>\n",
       "      <td>NaN</td>\n",
       "      <td>NaN</td>\n",
       "      <td>NaN</td>\n",
       "      <td>NaN</td>\n",
       "      <td>NaN</td>\n",
       "      <td>NaN</td>\n",
       "      <td>NaN</td>\n",
       "      <td>NaN</td>\n",
       "      <td>NaN</td>\n",
       "      <td>NaN</td>\n",
       "      <td>6,098 sqft</td>\n",
       "      <td>NaN</td>\n",
       "      <td>NaN</td>\n",
       "      <td>NaN</td>\n",
       "      <td>NaN</td>\n",
       "      <td>NaN</td>\n",
       "      <td>NaN</td>\n",
       "      <td>NaN</td>\n",
       "      <td>NaN</td>\n",
       "      <td>NaN</td>\n",
       "      <td>NaN</td>\n",
       "      <td>NaN</td>\n",
       "      <td>NaN</td>\n",
       "      <td>NaN</td>\n",
       "      <td>NaN</td>\n",
       "      <td>NaN</td>\n",
       "      <td>NaN</td>\n",
       "      <td>NaN</td>\n",
       "      <td>NaN</td>\n",
       "    </tr>\n",
       "    <tr>\n",
       "      <th>441</th>\n",
       "      <td>331734497</td>\n",
       "      <td>$180,000</td>\n",
       "      <td>$180K</td>\n",
       "      <td>NaN</td>\n",
       "      <td>NaN</td>\n",
       "      <td>NaN</td>\n",
       "      <td>FOR_SALE</td>\n",
       "      <td>Lot / Land for sale</td>\n",
       "      <td>False</td>\n",
       "      <td>False</td>\n",
       "      <td>False</td>\n",
       "      <td>https://photos.zillowstatic.com/fp/ca10734e28e...</td>\n",
       "      <td>True</td>\n",
       "      <td>False</td>\n",
       "      <td></td>\n",
       "      <td>False</td>\n",
       "      <td>/homedetails/4796-W-Derek-Ave-Spokane-WA-99208...</td>\n",
       "      <td>ForSale</td>\n",
       "      <td>For Sale (Broker)</td>\n",
       "      <td>False</td>\n",
       "      <td>False</td>\n",
       "      <td>False</td>\n",
       "      <td>--</td>\n",
       "      <td>False</td>\n",
       "      <td>False</td>\n",
       "      <td>False</td>\n",
       "      <td>NaN</td>\n",
       "      <td>1.790223e+10</td>\n",
       "      <td>47.737034</td>\n",
       "      <td>-117.48054</td>\n",
       "      <td>NaN</td>\n",
       "      <td>NaN</td>\n",
       "      <td>NaN</td>\n",
       "      <td>3.317345e+08</td>\n",
       "      <td>99208</td>\n",
       "      <td>Spokane</td>\n",
       "      <td>WA</td>\n",
       "      <td>47.737034</td>\n",
       "      <td>-117.48054</td>\n",
       "      <td>180000.0</td>\n",
       "      <td>NaN</td>\n",
       "      <td>NaN</td>\n",
       "      <td>LOT</td>\n",
       "      <td>FOR_SALE</td>\n",
       "      <td>-1.0</td>\n",
       "      <td>False</td>\n",
       "      <td>False</td>\n",
       "      <td>NaN</td>\n",
       "      <td>2700.0</td>\n",
       "      <td>True</td>\n",
       "      <td>False</td>\n",
       "      <td>False</td>\n",
       "      <td>FOR_SALE</td>\n",
       "      <td>180000.0</td>\n",
       "      <td>True</td>\n",
       "      <td>False</td>\n",
       "      <td>False</td>\n",
       "      <td>USD</td>\n",
       "      <td>USA</td>\n",
       "      <td>132250.0</td>\n",
       "      <td>10018.80</td>\n",
       "      <td>sqft</td>\n",
       "      <td>NaN</td>\n",
       "      <td>NaN</td>\n",
       "      <td>NaN</td>\n",
       "      <td>NaN</td>\n",
       "      <td>NaN</td>\n",
       "      <td>NaN</td>\n",
       "      <td>NaN</td>\n",
       "      <td>NaN</td>\n",
       "      <td>NaN</td>\n",
       "      <td>NaN</td>\n",
       "      <td>NaN</td>\n",
       "      <td>NaN</td>\n",
       "      <td>NaN</td>\n",
       "      <td>10,019 sqft</td>\n",
       "      <td>NaN</td>\n",
       "      <td>NaN</td>\n",
       "      <td>NaN</td>\n",
       "      <td>NaN</td>\n",
       "      <td>NaN</td>\n",
       "      <td>NaN</td>\n",
       "      <td>NaN</td>\n",
       "      <td>NaN</td>\n",
       "      <td>NaN</td>\n",
       "      <td>NaN</td>\n",
       "      <td>NaN</td>\n",
       "      <td>NaN</td>\n",
       "      <td>NaN</td>\n",
       "      <td>NaN</td>\n",
       "      <td>NaN</td>\n",
       "      <td>NaN</td>\n",
       "      <td>NaN</td>\n",
       "      <td>NaN</td>\n",
       "    </tr>\n",
       "    <tr>\n",
       "      <th>442</th>\n",
       "      <td>2062983632</td>\n",
       "      <td>$1,750,000</td>\n",
       "      <td>$1.75M</td>\n",
       "      <td>NaN</td>\n",
       "      <td>NaN</td>\n",
       "      <td>NaN</td>\n",
       "      <td>FOR_SALE</td>\n",
       "      <td>Lot / Land for sale</td>\n",
       "      <td>False</td>\n",
       "      <td>False</td>\n",
       "      <td>False</td>\n",
       "      <td>https://photos.zillowstatic.com/fp/beb3cb8a837...</td>\n",
       "      <td>True</td>\n",
       "      <td>False</td>\n",
       "      <td></td>\n",
       "      <td>False</td>\n",
       "      <td>/homedetails/19-N-Hatch-Rd-Colbert-WA-99005/20...</td>\n",
       "      <td>ForSale</td>\n",
       "      <td>For Sale (Broker)</td>\n",
       "      <td>False</td>\n",
       "      <td>False</td>\n",
       "      <td>False</td>\n",
       "      <td>--</td>\n",
       "      <td>False</td>\n",
       "      <td>False</td>\n",
       "      <td>False</td>\n",
       "      <td>NaN</td>\n",
       "      <td>2.632567e+10</td>\n",
       "      <td>47.806988</td>\n",
       "      <td>-117.39909</td>\n",
       "      <td>NaN</td>\n",
       "      <td>NaN</td>\n",
       "      <td>NaN</td>\n",
       "      <td>2.062984e+09</td>\n",
       "      <td>99005</td>\n",
       "      <td>Colbert</td>\n",
       "      <td>WA</td>\n",
       "      <td>47.806988</td>\n",
       "      <td>-117.39909</td>\n",
       "      <td>1750000.0</td>\n",
       "      <td>NaN</td>\n",
       "      <td>NaN</td>\n",
       "      <td>LOT</td>\n",
       "      <td>FOR_SALE</td>\n",
       "      <td>-1.0</td>\n",
       "      <td>False</td>\n",
       "      <td>False</td>\n",
       "      <td>NaN</td>\n",
       "      <td>NaN</td>\n",
       "      <td>True</td>\n",
       "      <td>False</td>\n",
       "      <td>False</td>\n",
       "      <td>FOR_SALE</td>\n",
       "      <td>1750000.0</td>\n",
       "      <td>True</td>\n",
       "      <td>False</td>\n",
       "      <td>False</td>\n",
       "      <td>USD</td>\n",
       "      <td>USA</td>\n",
       "      <td>NaN</td>\n",
       "      <td>29.44</td>\n",
       "      <td>acres</td>\n",
       "      <td>NaN</td>\n",
       "      <td>NaN</td>\n",
       "      <td>NaN</td>\n",
       "      <td>NaN</td>\n",
       "      <td>NaN</td>\n",
       "      <td>NaN</td>\n",
       "      <td>NaN</td>\n",
       "      <td>NaN</td>\n",
       "      <td>NaN</td>\n",
       "      <td>NaN</td>\n",
       "      <td>NaN</td>\n",
       "      <td>NaN</td>\n",
       "      <td>NaN</td>\n",
       "      <td>29.44 acres</td>\n",
       "      <td>NaN</td>\n",
       "      <td>NaN</td>\n",
       "      <td>NaN</td>\n",
       "      <td>NaN</td>\n",
       "      <td>NaN</td>\n",
       "      <td>NaN</td>\n",
       "      <td>NaN</td>\n",
       "      <td>NaN</td>\n",
       "      <td>NaN</td>\n",
       "      <td>NaN</td>\n",
       "      <td>NaN</td>\n",
       "      <td>NaN</td>\n",
       "      <td>NaN</td>\n",
       "      <td>NaN</td>\n",
       "      <td>NaN</td>\n",
       "      <td>NaN</td>\n",
       "      <td>NaN</td>\n",
       "      <td>NaN</td>\n",
       "    </tr>\n",
       "    <tr>\n",
       "      <th>443</th>\n",
       "      <td>NaN</td>\n",
       "      <td>From $399,950</td>\n",
       "      <td>NaN</td>\n",
       "      <td>NaN</td>\n",
       "      <td>NaN</td>\n",
       "      <td>NaN</td>\n",
       "      <td>FOR_SALE</td>\n",
       "      <td>NaN</td>\n",
       "      <td>NaN</td>\n",
       "      <td>NaN</td>\n",
       "      <td>NaN</td>\n",
       "      <td>NaN</td>\n",
       "      <td>NaN</td>\n",
       "      <td>NaN</td>\n",
       "      <td>NEW_CONSTRUCTION</td>\n",
       "      <td>NaN</td>\n",
       "      <td>/community/woodridge-classic-collection/297021...</td>\n",
       "      <td>NaN</td>\n",
       "      <td>NaN</td>\n",
       "      <td>NaN</td>\n",
       "      <td>NaN</td>\n",
       "      <td>NaN</td>\n",
       "      <td>NaN</td>\n",
       "      <td>NaN</td>\n",
       "      <td>NaN</td>\n",
       "      <td>NaN</td>\n",
       "      <td>NaN</td>\n",
       "      <td>NaN</td>\n",
       "      <td>47.752800</td>\n",
       "      <td>-117.47520</td>\n",
       "      <td>NaN</td>\n",
       "      <td>NaN</td>\n",
       "      <td>NaN</td>\n",
       "      <td>NaN</td>\n",
       "      <td>NaN</td>\n",
       "      <td>NaN</td>\n",
       "      <td>NaN</td>\n",
       "      <td>NaN</td>\n",
       "      <td>NaN</td>\n",
       "      <td>NaN</td>\n",
       "      <td>NaN</td>\n",
       "      <td>NaN</td>\n",
       "      <td>NaN</td>\n",
       "      <td>NaN</td>\n",
       "      <td>NaN</td>\n",
       "      <td>NaN</td>\n",
       "      <td>NaN</td>\n",
       "      <td>NaN</td>\n",
       "      <td>NaN</td>\n",
       "      <td>NaN</td>\n",
       "      <td>NaN</td>\n",
       "      <td>NaN</td>\n",
       "      <td>NaN</td>\n",
       "      <td>NaN</td>\n",
       "      <td>NaN</td>\n",
       "      <td>NaN</td>\n",
       "      <td>NaN</td>\n",
       "      <td>NaN</td>\n",
       "      <td>NaN</td>\n",
       "      <td>NaN</td>\n",
       "      <td>NaN</td>\n",
       "      <td>NaN</td>\n",
       "      <td>NaN</td>\n",
       "      <td>NaN</td>\n",
       "      <td>NaN</td>\n",
       "      <td>NaN</td>\n",
       "      <td>NaN</td>\n",
       "      <td>NaN</td>\n",
       "      <td>NaN</td>\n",
       "      <td>NaN</td>\n",
       "      <td>NaN</td>\n",
       "      <td>NaN</td>\n",
       "      <td>NaN</td>\n",
       "      <td>NaN</td>\n",
       "      <td>NaN</td>\n",
       "      <td>NaN</td>\n",
       "      <td>47.7528--117.4752</td>\n",
       "      <td>NaN</td>\n",
       "      <td>NaN</td>\n",
       "      <td>NaN</td>\n",
       "      <td>NaN</td>\n",
       "      <td>16.0</td>\n",
       "      <td>NaN</td>\n",
       "      <td>NaN</td>\n",
       "      <td>NaN</td>\n",
       "      <td>Woodridge : Classic Collection</td>\n",
       "      <td>NaN</td>\n",
       "      <td>NaN</td>\n",
       "      <td>29702166</td>\n",
       "      <td>None</td>\n",
       "      <td>True</td>\n",
       "      <td>NaN</td>\n",
       "      <td>NaN</td>\n",
       "      <td>NaN</td>\n",
       "    </tr>\n",
       "    <tr>\n",
       "      <th>444</th>\n",
       "      <td>NaN</td>\n",
       "      <td>From $414,995</td>\n",
       "      <td>NaN</td>\n",
       "      <td>NaN</td>\n",
       "      <td>NaN</td>\n",
       "      <td>NaN</td>\n",
       "      <td>FOR_SALE</td>\n",
       "      <td>NaN</td>\n",
       "      <td>NaN</td>\n",
       "      <td>NaN</td>\n",
       "      <td>NaN</td>\n",
       "      <td>NaN</td>\n",
       "      <td>NaN</td>\n",
       "      <td>NaN</td>\n",
       "      <td>NEW_CONSTRUCTION</td>\n",
       "      <td>NaN</td>\n",
       "      <td>/community/elk-meadows-estates/29858096_plid/</td>\n",
       "      <td>NaN</td>\n",
       "      <td>NaN</td>\n",
       "      <td>NaN</td>\n",
       "      <td>NaN</td>\n",
       "      <td>NaN</td>\n",
       "      <td>NaN</td>\n",
       "      <td>NaN</td>\n",
       "      <td>NaN</td>\n",
       "      <td>NaN</td>\n",
       "      <td>NaN</td>\n",
       "      <td>NaN</td>\n",
       "      <td>47.625280</td>\n",
       "      <td>-117.22820</td>\n",
       "      <td>NaN</td>\n",
       "      <td>NaN</td>\n",
       "      <td>NaN</td>\n",
       "      <td>NaN</td>\n",
       "      <td>NaN</td>\n",
       "      <td>NaN</td>\n",
       "      <td>NaN</td>\n",
       "      <td>NaN</td>\n",
       "      <td>NaN</td>\n",
       "      <td>NaN</td>\n",
       "      <td>NaN</td>\n",
       "      <td>NaN</td>\n",
       "      <td>NaN</td>\n",
       "      <td>NaN</td>\n",
       "      <td>NaN</td>\n",
       "      <td>NaN</td>\n",
       "      <td>NaN</td>\n",
       "      <td>NaN</td>\n",
       "      <td>NaN</td>\n",
       "      <td>NaN</td>\n",
       "      <td>NaN</td>\n",
       "      <td>NaN</td>\n",
       "      <td>NaN</td>\n",
       "      <td>NaN</td>\n",
       "      <td>NaN</td>\n",
       "      <td>NaN</td>\n",
       "      <td>NaN</td>\n",
       "      <td>NaN</td>\n",
       "      <td>NaN</td>\n",
       "      <td>NaN</td>\n",
       "      <td>NaN</td>\n",
       "      <td>NaN</td>\n",
       "      <td>NaN</td>\n",
       "      <td>NaN</td>\n",
       "      <td>NaN</td>\n",
       "      <td>NaN</td>\n",
       "      <td>NaN</td>\n",
       "      <td>NaN</td>\n",
       "      <td>NaN</td>\n",
       "      <td>NaN</td>\n",
       "      <td>NaN</td>\n",
       "      <td>NaN</td>\n",
       "      <td>NaN</td>\n",
       "      <td>NaN</td>\n",
       "      <td>NaN</td>\n",
       "      <td>NaN</td>\n",
       "      <td>47.62528--117.2282</td>\n",
       "      <td>NaN</td>\n",
       "      <td>NaN</td>\n",
       "      <td>NaN</td>\n",
       "      <td>NaN</td>\n",
       "      <td>12.0</td>\n",
       "      <td>NaN</td>\n",
       "      <td>NaN</td>\n",
       "      <td>NaN</td>\n",
       "      <td>Elk Meadows Estates</td>\n",
       "      <td>NaN</td>\n",
       "      <td>NaN</td>\n",
       "      <td>29858096</td>\n",
       "      <td>None</td>\n",
       "      <td>True</td>\n",
       "      <td>NaN</td>\n",
       "      <td>NaN</td>\n",
       "      <td>NaN</td>\n",
       "    </tr>\n",
       "  </tbody>\n",
       "</table>\n",
       "<p>445 rows × 94 columns</p>\n",
       "</div>"
      ],
      "text/plain": [
       "           zpid          price priceLabel  beds  baths    area statusType  \\\n",
       "0      23545636       $525,000      $525K   4.0    3.0     NaN   FOR_SALE   \n",
       "1      23485189       $128,000      $128K   3.0    2.0  1112.0   FOR_SALE   \n",
       "2     116407099       $729,900      $730K   3.0    3.0  1832.0   FOR_SALE   \n",
       "3      23516843       $334,900      $335K   4.0    2.0  1566.0   FOR_SALE   \n",
       "4      23514144       $269,999      $270K   3.0    2.0  1382.0   FOR_SALE   \n",
       "..          ...            ...        ...   ...    ...     ...        ...   \n",
       "440    23480335       $119,000      $119K   NaN    NaN     NaN   FOR_SALE   \n",
       "441   331734497       $180,000      $180K   NaN    NaN     NaN   FOR_SALE   \n",
       "442  2062983632     $1,750,000     $1.75M   NaN    NaN     NaN   FOR_SALE   \n",
       "443         NaN  From $399,950        NaN   NaN    NaN     NaN   FOR_SALE   \n",
       "444         NaN  From $414,995        NaN   NaN    NaN     NaN   FOR_SALE   \n",
       "\n",
       "              statusText isFavorite isUserClaimingOwner isUserConfirmedClaim  \\\n",
       "0         House for sale      False               False                False   \n",
       "1          Home for sale      False               False                False   \n",
       "2         House for sale      False               False                False   \n",
       "3         House for sale      False               False                False   \n",
       "4         House for sale      False               False                False   \n",
       "..                   ...        ...                 ...                  ...   \n",
       "440  Lot / Land for sale      False               False                False   \n",
       "441  Lot / Land for sale      False               False                False   \n",
       "442  Lot / Land for sale      False               False                False   \n",
       "443                  NaN        NaN                 NaN                  NaN   \n",
       "444                  NaN        NaN                 NaN                  NaN   \n",
       "\n",
       "                                                imgSrc hasImage visited  \\\n",
       "0    https://photos.zillowstatic.com/fp/004f7bea228...     True   False   \n",
       "1    https://photos.zillowstatic.com/fp/f8011994041...     True   False   \n",
       "2    https://photos.zillowstatic.com/fp/1856632abf7...     True   False   \n",
       "3    https://photos.zillowstatic.com/fp/99e8ef19011...     True   False   \n",
       "4    https://photos.zillowstatic.com/fp/c0b1f39d9d0...     True   False   \n",
       "..                                                 ...      ...     ...   \n",
       "440  https://photos.zillowstatic.com/fp/ce6921703fc...     True   False   \n",
       "441  https://photos.zillowstatic.com/fp/ca10734e28e...     True   False   \n",
       "442  https://photos.zillowstatic.com/fp/beb3cb8a837...     True   False   \n",
       "443                                                NaN      NaN     NaN   \n",
       "444                                                NaN      NaN     NaN   \n",
       "\n",
       "          listingType shouldShowZestimateAsPrice  \\\n",
       "0                                          False   \n",
       "1                                          False   \n",
       "2                                          False   \n",
       "3                                          False   \n",
       "4                                          False   \n",
       "..                ...                        ...   \n",
       "440                                        False   \n",
       "441                                        False   \n",
       "442                                        False   \n",
       "443  NEW_CONSTRUCTION                        NaN   \n",
       "444  NEW_CONSTRUCTION                        NaN   \n",
       "\n",
       "                                             detailUrl    pgapt  \\\n",
       "0    /homedetails/8409-N-Weipert-Dr-Spokane-WA-9920...  ForSale   \n",
       "1    /homedetails/2603-S-Chestnut-St-Spokane-WA-992...  ForSale   \n",
       "2    /homedetails/1932-W-Summit-Pkwy-Spokane-WA-992...  ForSale   \n",
       "3    /homedetails/1910-E-Marshall-Ave-Spokane-WA-99...  ForSale   \n",
       "4    /homedetails/2115-N-Madison-St-Spokane-WA-9920...  ForSale   \n",
       "..                                                 ...      ...   \n",
       "440  /homedetails/1817-W-Chelan-Ave-Spokane-WA-9920...  ForSale   \n",
       "441  /homedetails/4796-W-Derek-Ave-Spokane-WA-99208...  ForSale   \n",
       "442  /homedetails/19-N-Hatch-Rd-Colbert-WA-99005/20...  ForSale   \n",
       "443  /community/woodridge-classic-collection/297021...      NaN   \n",
       "444      /community/elk-meadows-estates/29858096_plid/      NaN   \n",
       "\n",
       "                 sgapt has3DModel hasVideo isHomeRec address  \\\n",
       "0    For Sale (Broker)      False    False     False      --   \n",
       "1    For Sale (Broker)      False    False     False      --   \n",
       "2    For Sale (Broker)      False    False     False      --   \n",
       "3    For Sale (Broker)      False    False     False      --   \n",
       "4    For Sale (Broker)      False    False     False      --   \n",
       "..                 ...        ...      ...       ...     ...   \n",
       "440  For Sale (Broker)      False    False     False      --   \n",
       "441  For Sale (Broker)      False    False     False      --   \n",
       "442  For Sale (Broker)      False    False     False      --   \n",
       "443                NaN        NaN      NaN       NaN     NaN   \n",
       "444                NaN        NaN      NaN       NaN     NaN   \n",
       "\n",
       "    hasAdditionalAttributions isFeaturedListing isShowcaseListing  \\\n",
       "0                       False             False             False   \n",
       "1                       False             False             False   \n",
       "2                       False             False             False   \n",
       "3                       False             False             False   \n",
       "4                       False             False             False   \n",
       "..                        ...               ...               ...   \n",
       "440                     False             False             False   \n",
       "441                     False             False             False   \n",
       "442                     False             False             False   \n",
       "443                       NaN               NaN               NaN   \n",
       "444                       NaN               NaN               NaN   \n",
       "\n",
       "     availabilityDate  timeOnZillow  latLong.latitude  latLong.longitude  \\\n",
       "0                 NaN  2.881858e+06         47.734270         -117.41680   \n",
       "1                 NaN  9.331876e+06         47.630840         -117.44255   \n",
       "2                 NaN  9.452232e+07         47.662056         -117.44161   \n",
       "3                 NaN  1.232194e+07         47.673670         -117.38117   \n",
       "4                 NaN  1.113468e+08         47.677273         -117.42847   \n",
       "..                ...           ...               ...                ...   \n",
       "440               NaN  1.451853e+10         47.681873         -117.43932   \n",
       "441               NaN  1.790223e+10         47.737034         -117.48054   \n",
       "442               NaN  2.632567e+10         47.806988         -117.39909   \n",
       "443               NaN           NaN         47.752800         -117.47520   \n",
       "444               NaN           NaN         47.625280         -117.22820   \n",
       "\n",
       "    variableData.type     variableData.text variableData.data.isFresh  \\\n",
       "0        TIME_ON_INFO        48 minutes ago                     False   \n",
       "1        TIME_ON_INFO           2 hours ago                     False   \n",
       "2          OPEN_HOUSE  Open: Sat. 10am-12pm                       NaN   \n",
       "3          OPEN_HOUSE      Open: Sat. 1-3pm                       NaN   \n",
       "4                 NaN                   NaN                       NaN   \n",
       "..                ...                   ...                       ...   \n",
       "440               NaN                   NaN                       NaN   \n",
       "441               NaN                   NaN                       NaN   \n",
       "442               NaN                   NaN                       NaN   \n",
       "443               NaN                   NaN                       NaN   \n",
       "444               NaN                   NaN                       NaN   \n",
       "\n",
       "     hdpData.homeInfo.zpid hdpData.homeInfo.zipcode hdpData.homeInfo.city  \\\n",
       "0             2.354564e+07                    99208               Spokane   \n",
       "1             2.348519e+07                    99224               Spokane   \n",
       "2             1.164071e+08                    99201               Spokane   \n",
       "3             2.351684e+07                    99207               Spokane   \n",
       "4             2.351414e+07                    99205               Spokane   \n",
       "..                     ...                      ...                   ...   \n",
       "440           2.348034e+07                    99205               Spokane   \n",
       "441           3.317345e+08                    99208               Spokane   \n",
       "442           2.062984e+09                    99005               Colbert   \n",
       "443                    NaN                      NaN                   NaN   \n",
       "444                    NaN                      NaN                   NaN   \n",
       "\n",
       "    hdpData.homeInfo.state  hdpData.homeInfo.latitude  \\\n",
       "0                       WA                  47.734270   \n",
       "1                       WA                  47.630840   \n",
       "2                       WA                  47.662056   \n",
       "3                       WA                  47.673670   \n",
       "4                       WA                  47.677273   \n",
       "..                     ...                        ...   \n",
       "440                     WA                  47.681873   \n",
       "441                     WA                  47.737034   \n",
       "442                     WA                  47.806988   \n",
       "443                    NaN                        NaN   \n",
       "444                    NaN                        NaN   \n",
       "\n",
       "     hdpData.homeInfo.longitude  hdpData.homeInfo.price  \\\n",
       "0                    -117.41680                525000.0   \n",
       "1                    -117.44255                128000.0   \n",
       "2                    -117.44161                729900.0   \n",
       "3                    -117.38117                334900.0   \n",
       "4                    -117.42847                269999.0   \n",
       "..                          ...                     ...   \n",
       "440                  -117.43932                119000.0   \n",
       "441                  -117.48054                180000.0   \n",
       "442                  -117.39909               1750000.0   \n",
       "443                         NaN                     NaN   \n",
       "444                         NaN                     NaN   \n",
       "\n",
       "     hdpData.homeInfo.bathrooms  hdpData.homeInfo.bedrooms  \\\n",
       "0                           3.0                        4.0   \n",
       "1                           2.0                        3.0   \n",
       "2                           3.0                        3.0   \n",
       "3                           2.0                        4.0   \n",
       "4                           2.0                        3.0   \n",
       "..                          ...                        ...   \n",
       "440                         NaN                        NaN   \n",
       "441                         NaN                        NaN   \n",
       "442                         NaN                        NaN   \n",
       "443                         NaN                        NaN   \n",
       "444                         NaN                        NaN   \n",
       "\n",
       "    hdpData.homeInfo.homeType hdpData.homeInfo.homeStatus  \\\n",
       "0               SINGLE_FAMILY                    FOR_SALE   \n",
       "1                MANUFACTURED                    FOR_SALE   \n",
       "2               SINGLE_FAMILY                    FOR_SALE   \n",
       "3               SINGLE_FAMILY                    FOR_SALE   \n",
       "4               SINGLE_FAMILY                    FOR_SALE   \n",
       "..                        ...                         ...   \n",
       "440                       LOT                    FOR_SALE   \n",
       "441                       LOT                    FOR_SALE   \n",
       "442                       LOT                    FOR_SALE   \n",
       "443                       NaN                         NaN   \n",
       "444                       NaN                         NaN   \n",
       "\n",
       "     hdpData.homeInfo.daysOnZillow hdpData.homeInfo.isFeatured  \\\n",
       "0                             -1.0                       False   \n",
       "1                             -1.0                       False   \n",
       "2                             -1.0                       False   \n",
       "3                             -1.0                       False   \n",
       "4                             -1.0                       False   \n",
       "..                             ...                         ...   \n",
       "440                           -1.0                       False   \n",
       "441                           -1.0                       False   \n",
       "442                           -1.0                       False   \n",
       "443                            NaN                         NaN   \n",
       "444                            NaN                         NaN   \n",
       "\n",
       "    hdpData.homeInfo.shouldHighlight  hdpData.homeInfo.zestimate  \\\n",
       "0                              False                    394800.0   \n",
       "1                              False                    124952.0   \n",
       "2                              False                         NaN   \n",
       "3                              False                    334902.0   \n",
       "4                              False                    270000.0   \n",
       "..                               ...                         ...   \n",
       "440                            False                         NaN   \n",
       "441                            False                         NaN   \n",
       "442                            False                         NaN   \n",
       "443                              NaN                         NaN   \n",
       "444                              NaN                         NaN   \n",
       "\n",
       "     hdpData.homeInfo.rentZestimate hdpData.homeInfo.listing_sub_type.is_FSBA  \\\n",
       "0                            1763.0                                      True   \n",
       "1                             434.0                                      True   \n",
       "2                               NaN                                      True   \n",
       "3                            1980.0                                      True   \n",
       "4                            1834.0                                      True   \n",
       "..                              ...                                       ...   \n",
       "440                             NaN                                      True   \n",
       "441                          2700.0                                      True   \n",
       "442                             NaN                                      True   \n",
       "443                             NaN                                       NaN   \n",
       "444                             NaN                                       NaN   \n",
       "\n",
       "    hdpData.homeInfo.isUnmappable hdpData.homeInfo.isPreforeclosureAuction  \\\n",
       "0                           False                                    False   \n",
       "1                           False                                    False   \n",
       "2                           False                                    False   \n",
       "3                           False                                    False   \n",
       "4                           False                                    False   \n",
       "..                            ...                                      ...   \n",
       "440                         False                                    False   \n",
       "441                         False                                    False   \n",
       "442                         False                                    False   \n",
       "443                           NaN                                      NaN   \n",
       "444                           NaN                                      NaN   \n",
       "\n",
       "    hdpData.homeInfo.homeStatusForHDP  hdpData.homeInfo.priceForHDP  \\\n",
       "0                            FOR_SALE                      525000.0   \n",
       "1                            FOR_SALE                      128000.0   \n",
       "2                            FOR_SALE                      729900.0   \n",
       "3                            FOR_SALE                      334900.0   \n",
       "4                            FOR_SALE                      269999.0   \n",
       "..                                ...                           ...   \n",
       "440                          FOR_SALE                      119000.0   \n",
       "441                          FOR_SALE                      180000.0   \n",
       "442                          FOR_SALE                     1750000.0   \n",
       "443                               NaN                           NaN   \n",
       "444                               NaN                           NaN   \n",
       "\n",
       "    hdpData.homeInfo.isNonOwnerOccupied hdpData.homeInfo.isPremierBuilder  \\\n",
       "0                                  True                             False   \n",
       "1                                  True                             False   \n",
       "2                                  True                             False   \n",
       "3                                  True                             False   \n",
       "4                                  True                             False   \n",
       "..                                  ...                               ...   \n",
       "440                                True                             False   \n",
       "441                                True                             False   \n",
       "442                                True                             False   \n",
       "443                                 NaN                               NaN   \n",
       "444                                 NaN                               NaN   \n",
       "\n",
       "    hdpData.homeInfo.isZillowOwned hdpData.homeInfo.currency  \\\n",
       "0                            False                       USD   \n",
       "1                            False                       USD   \n",
       "2                            False                       USD   \n",
       "3                            False                       USD   \n",
       "4                            False                       USD   \n",
       "..                             ...                       ...   \n",
       "440                          False                       USD   \n",
       "441                          False                       USD   \n",
       "442                          False                       USD   \n",
       "443                            NaN                       NaN   \n",
       "444                            NaN                       NaN   \n",
       "\n",
       "    hdpData.homeInfo.country  hdpData.homeInfo.taxAssessedValue  \\\n",
       "0                        USA                           319700.0   \n",
       "1                        USA                            78500.0   \n",
       "2                        USA                           451900.0   \n",
       "3                        USA                           212400.0   \n",
       "4                        USA                           167800.0   \n",
       "..                       ...                                ...   \n",
       "440                      USA                            35000.0   \n",
       "441                      USA                           132250.0   \n",
       "442                      USA                                NaN   \n",
       "443                      NaN                                NaN   \n",
       "444                      NaN                                NaN   \n",
       "\n",
       "     hdpData.homeInfo.lotAreaValue hdpData.homeInfo.lotAreaUnit  \\\n",
       "0                             0.26                        acres   \n",
       "1                             0.27                        acres   \n",
       "2                          2613.60                         sqft   \n",
       "3                             0.26                        acres   \n",
       "4                          2178.00                         sqft   \n",
       "..                             ...                          ...   \n",
       "440                        6098.40                         sqft   \n",
       "441                       10018.80                         sqft   \n",
       "442                          29.44                        acres   \n",
       "443                            NaN                          NaN   \n",
       "444                            NaN                          NaN   \n",
       "\n",
       "     hdpData.homeInfo.livingArea  \\\n",
       "0                            NaN   \n",
       "1                         1112.0   \n",
       "2                         1832.0   \n",
       "3                         1566.0   \n",
       "4                         1382.0   \n",
       "..                           ...   \n",
       "440                          NaN   \n",
       "441                          NaN   \n",
       "442                          NaN   \n",
       "443                          NaN   \n",
       "444                          NaN   \n",
       "\n",
       "    hdpData.homeInfo.listing_sub_type.is_openHouse hdpData.homeInfo.openHouse  \\\n",
       "0                                              NaN                        NaN   \n",
       "1                                              NaN                        NaN   \n",
       "2                                             True             Sat. 10am-12pm   \n",
       "3                                             True                 Sat. 1-3pm   \n",
       "4                                              NaN                        NaN   \n",
       "..                                             ...                        ...   \n",
       "440                                            NaN                        NaN   \n",
       "441                                            NaN                        NaN   \n",
       "442                                            NaN                        NaN   \n",
       "443                                            NaN                        NaN   \n",
       "444                                            NaN                        NaN   \n",
       "\n",
       "    hdpData.homeInfo.open_house_info.open_house_showing  variableData  \\\n",
       "0                                                  NaN            NaN   \n",
       "1                                                  NaN            NaN   \n",
       "2    [{'open_house_start': 1680973200000, 'open_hou...            NaN   \n",
       "3    [{'open_house_start': 1680984000000, 'open_hou...            NaN   \n",
       "4                                                  NaN            NaN   \n",
       "..                                                 ...            ...   \n",
       "440                                                NaN            NaN   \n",
       "441                                                NaN            NaN   \n",
       "442                                                NaN            NaN   \n",
       "443                                                NaN            NaN   \n",
       "444                                                NaN            NaN   \n",
       "\n",
       "    hdpData.homeInfo.unit  hdpData.homeInfo.datePriceChanged  \\\n",
       "0                     NaN                                NaN   \n",
       "1                     NaN                                NaN   \n",
       "2                     NaN                                NaN   \n",
       "3                     NaN                                NaN   \n",
       "4                     NaN                                NaN   \n",
       "..                    ...                                ...   \n",
       "440                   NaN                                NaN   \n",
       "441                   NaN                                NaN   \n",
       "442                   NaN                                NaN   \n",
       "443                   NaN                                NaN   \n",
       "444                   NaN                                NaN   \n",
       "\n",
       "    hdpData.homeInfo.priceReduction  hdpData.homeInfo.priceChange  \\\n",
       "0                               NaN                           NaN   \n",
       "1                               NaN                           NaN   \n",
       "2                               NaN                           NaN   \n",
       "3                               NaN                           NaN   \n",
       "4                               NaN                           NaN   \n",
       "..                              ...                           ...   \n",
       "440                             NaN                           NaN   \n",
       "441                             NaN                           NaN   \n",
       "442                             NaN                           NaN   \n",
       "443                             NaN                           NaN   \n",
       "444                             NaN                           NaN   \n",
       "\n",
       "     hdpData.homeInfo.videoCount info3String  \\\n",
       "0                            NaN         NaN   \n",
       "1                            NaN         NaN   \n",
       "2                            NaN         NaN   \n",
       "3                            NaN         NaN   \n",
       "4                            NaN         NaN   \n",
       "..                           ...         ...   \n",
       "440                          NaN         NaN   \n",
       "441                          NaN         NaN   \n",
       "442                          NaN         NaN   \n",
       "443                          NaN         NaN   \n",
       "444                          NaN         NaN   \n",
       "\n",
       "    hdpData.homeInfo.listing_sub_type.is_newHome  \\\n",
       "0                                            NaN   \n",
       "1                                            NaN   \n",
       "2                                            NaN   \n",
       "3                                            NaN   \n",
       "4                                            NaN   \n",
       "..                                           ...   \n",
       "440                                          NaN   \n",
       "441                                          NaN   \n",
       "442                                          NaN   \n",
       "443                                          NaN   \n",
       "444                                          NaN   \n",
       "\n",
       "    hdpData.homeInfo.newConstructionType lotAreaString          buildingId  \\\n",
       "0                                    NaN           NaN                 NaN   \n",
       "1                                    NaN           NaN                 NaN   \n",
       "2                                    NaN           NaN                 NaN   \n",
       "3                                    NaN           NaN                 NaN   \n",
       "4                                    NaN           NaN                 NaN   \n",
       "..                                   ...           ...                 ...   \n",
       "440                                  NaN    6,098 sqft                 NaN   \n",
       "441                                  NaN   10,019 sqft                 NaN   \n",
       "442                                  NaN   29.44 acres                 NaN   \n",
       "443                                  NaN           NaN   47.7528--117.4752   \n",
       "444                                  NaN           NaN  47.62528--117.2282   \n",
       "\n",
       "     lotId  minBeds  minBaths  minArea  unitCount isBuilding  badgeInfo  \\\n",
       "0      NaN      NaN       NaN      NaN        NaN        NaN        NaN   \n",
       "1      NaN      NaN       NaN      NaN        NaN        NaN        NaN   \n",
       "2      NaN      NaN       NaN      NaN        NaN        NaN        NaN   \n",
       "3      NaN      NaN       NaN      NaN        NaN        NaN        NaN   \n",
       "4      NaN      NaN       NaN      NaN        NaN        NaN        NaN   \n",
       "..     ...      ...       ...      ...        ...        ...        ...   \n",
       "440    NaN      NaN       NaN      NaN        NaN        NaN        NaN   \n",
       "441    NaN      NaN       NaN      NaN        NaN        NaN        NaN   \n",
       "442    NaN      NaN       NaN      NaN        NaN        NaN        NaN   \n",
       "443    NaN      NaN       NaN      NaN       16.0        NaN        NaN   \n",
       "444    NaN      NaN       NaN      NaN       12.0        NaN        NaN   \n",
       "\n",
       "    canSaveBuilding                   communityName  \\\n",
       "0               NaN                             NaN   \n",
       "1               NaN                             NaN   \n",
       "2               NaN                             NaN   \n",
       "3               NaN                             NaN   \n",
       "4               NaN                             NaN   \n",
       "..              ...                             ...   \n",
       "440             NaN                             NaN   \n",
       "441             NaN                             NaN   \n",
       "442             NaN                             NaN   \n",
       "443             NaN  Woodridge : Classic Collection   \n",
       "444             NaN             Elk Meadows Estates   \n",
       "\n",
       "    hdpData.homeInfo.providerListingID  \\\n",
       "0                                  NaN   \n",
       "1                                  NaN   \n",
       "2                                  NaN   \n",
       "3                                  NaN   \n",
       "4                                  NaN   \n",
       "..                                 ...   \n",
       "440                                NaN   \n",
       "441                                NaN   \n",
       "442                                NaN   \n",
       "443                                NaN   \n",
       "444                                NaN   \n",
       "\n",
       "    hdpData.homeInfo.listing_sub_type.is_comingSoon      plid style  \\\n",
       "0                                               NaN       NaN   NaN   \n",
       "1                                               NaN       NaN   NaN   \n",
       "2                                               NaN       NaN   NaN   \n",
       "3                                               NaN       NaN   NaN   \n",
       "4                                               NaN       NaN   NaN   \n",
       "..                                              ...       ...   ...   \n",
       "440                                             NaN       NaN   NaN   \n",
       "441                                             NaN       NaN   NaN   \n",
       "442                                             NaN       NaN   NaN   \n",
       "443                                             NaN  29702166  None   \n",
       "444                                             NaN  29858096  None   \n",
       "\n",
       "    isCdpResult isPropertyResultCDP hdpData.homeInfo.group_type  \\\n",
       "0           NaN                 NaN                         NaN   \n",
       "1           NaN                 NaN                         NaN   \n",
       "2           NaN                 NaN                         NaN   \n",
       "3           NaN                 NaN                         NaN   \n",
       "4           NaN                 NaN                         NaN   \n",
       "..          ...                 ...                         ...   \n",
       "440         NaN                 NaN                         NaN   \n",
       "441         NaN                 NaN                         NaN   \n",
       "442         NaN                 NaN                         NaN   \n",
       "443        True                 NaN                         NaN   \n",
       "444        True                 NaN                         NaN   \n",
       "\n",
       "    hdpData.homeInfo.priceSuffix  \n",
       "0                            NaN  \n",
       "1                            NaN  \n",
       "2                            NaN  \n",
       "3                            NaN  \n",
       "4                            NaN  \n",
       "..                           ...  \n",
       "440                          NaN  \n",
       "441                          NaN  \n",
       "442                          NaN  \n",
       "443                          NaN  \n",
       "444                          NaN  \n",
       "\n",
       "[445 rows x 94 columns]"
      ]
     },
     "execution_count": 66,
     "metadata": {},
     "output_type": "execute_result"
    }
   ],
   "source": [
    "# view all listings\n",
    "df_listings = pd.json_normalize(listing_response.json()[\"data\"][\"cat1\"][\"searchResults\"][\"mapResults\"])\n",
    "print(\"Number of rows:\", len(df_listings))\n",
    "print(\"Number of columns:\", len(df_listings.columns))\n",
    "#df_listings\n",
    "df_listings.to_csv\n",
    "df_listings"
   ]
  },
  {
   "cell_type": "code",
   "execution_count": 67,
   "metadata": {},
   "outputs": [
    {
     "data": {
      "application/vnd.plotly.v1+json": {
       "config": {
        "plotlyServerURL": "https://plot.ly"
       },
       "data": [
        {
         "alignmentgroup": "True",
         "bingroup": "x",
         "hovertemplate": "Home price=%{x}<br>count=%{y}<extra></extra>",
         "legendgroup": "",
         "marker": {
          "color": "#636efa",
          "pattern": {
           "shape": ""
          }
         },
         "name": "",
         "offsetgroup": "",
         "orientation": "v",
         "showlegend": false,
         "type": "histogram",
         "x": [
          525000,
          128000,
          729900,
          334900,
          269999,
          364900,
          345000,
          95000,
          319900,
          640000,
          359000,
          524900,
          162900,
          274995,
          475000,
          229000,
          359000,
          425000,
          519900,
          249900,
          389900,
          459900,
          360000,
          255000,
          259000,
          670000,
          975000,
          650000,
          315000,
          295000,
          284950,
          239900,
          769900,
          729900,
          451995,
          420000,
          519000,
          340000,
          298000,
          451995,
          399000,
          270000,
          775000,
          750000,
          749000,
          949900,
          550000,
          404000,
          500000,
          650000,
          350000,
          425000,
          1300000,
          850000,
          585000,
          679900,
          550000,
          599000,
          205000,
          1500000,
          724900,
          335000,
          949900,
          575000,
          1490000,
          1200000,
          625000,
          725000,
          465000,
          399000,
          525000,
          262000,
          794900,
          375000,
          1999900,
          1275000,
          499000,
          414900,
          585000,
          299950,
          445000,
          649900,
          260000,
          418500,
          349900,
          429900,
          75000,
          330000,
          1899000,
          379999,
          1600000,
          769000,
          519000,
          429900,
          749900,
          484500,
          800000,
          775000,
          1450000,
          327000,
          769900,
          1735000,
          140000,
          674900,
          249900,
          405000,
          599999,
          950000,
          499900,
          799000,
          255000,
          1400000,
          640000,
          385000,
          570000,
          430000,
          500000,
          299900,
          525000,
          650000,
          225000,
          750000,
          360000,
          265000,
          405000,
          385000,
          790000,
          310000,
          540000,
          810000,
          105800,
          3190000,
          279900,
          825000,
          519900,
          365000,
          515000,
          540000,
          499000,
          539000,
          143000,
          549000,
          824900,
          370000,
          375000,
          240000,
          1100000,
          425000,
          239900,
          169898,
          434900,
          330000,
          825000,
          1997000,
          775000,
          669900,
          440000,
          80000,
          360000,
          320000,
          315000,
          399000,
          375000,
          490000,
          539000,
          299500,
          null,
          320000,
          995000,
          369900,
          649900,
          405000,
          239000,
          150000,
          299000,
          224900,
          649900,
          198000,
          384999,
          2300000,
          939999,
          1850000,
          729900,
          465000,
          524990,
          274900,
          299000,
          79000,
          580000,
          150000,
          315000,
          429900,
          475000,
          373951,
          460000,
          763750,
          945000,
          279000,
          674995,
          344900,
          299900,
          529000,
          199000,
          359900,
          9000000,
          799995,
          364899,
          459900,
          575000,
          629000,
          725000,
          450000,
          550000,
          449900,
          99950,
          129900,
          699888,
          225000,
          364995,
          1200000,
          354900,
          600000,
          510000,
          650000,
          939999,
          509990,
          450000,
          379900,
          699900,
          245000,
          330000,
          249900,
          524990,
          null,
          379000,
          224000,
          570000,
          489898,
          89997,
          262500,
          259000,
          425000,
          599900,
          574990,
          320000,
          359000,
          540000,
          378597,
          1150000,
          735000,
          259900,
          314900,
          439900,
          null,
          599000,
          750000,
          550000,
          509900,
          699900,
          699995,
          192000,
          769699,
          339990,
          725000,
          839000,
          110000,
          337500,
          200000,
          874000,
          375000,
          128000,
          229900,
          309900,
          399900,
          625000,
          749900,
          1700000,
          245000,
          464995,
          1800000,
          699500,
          699000,
          220000,
          775000,
          899000,
          125000,
          449900,
          499995,
          495000,
          850000,
          165000,
          580000,
          619888,
          350000,
          null,
          390000,
          390761,
          589900,
          450000,
          459500,
          499995,
          null,
          315000,
          359995,
          120000,
          459995,
          1000000,
          199000,
          150000,
          534995,
          499995,
          120000,
          null,
          700000,
          550000,
          569900,
          310000,
          null,
          849650,
          424995,
          690000,
          459995,
          150000,
          397000,
          225000,
          250000,
          89900,
          275000,
          849900,
          355000,
          619995,
          365000,
          784900,
          560000,
          405000,
          125000,
          450000,
          749900,
          413816,
          null,
          68000,
          1275000,
          6800000,
          995000,
          400000,
          524995,
          874000,
          467995,
          989999,
          99000,
          569995,
          749900,
          135000,
          769900,
          null,
          null,
          150000,
          377995,
          524995,
          534995,
          165000,
          144000,
          414995,
          3200000,
          999950,
          null,
          850000,
          849000,
          897000,
          825000,
          550000,
          475000,
          324900,
          229000,
          250000,
          711840,
          559900,
          450000,
          175000,
          509990,
          534995,
          445762,
          459995,
          799900,
          469995,
          1750000,
          362000,
          850000,
          180000,
          192000,
          524990,
          154900,
          199950,
          119000,
          524995,
          null,
          609995,
          519900,
          165000,
          699900,
          850000,
          850000,
          205000,
          75000,
          69900,
          175000,
          849000,
          null,
          605000,
          605000,
          70000,
          411950,
          225000,
          525000,
          444950,
          174900,
          90000,
          135000,
          135000,
          724950,
          87500,
          749900,
          78000,
          164900,
          115000,
          160000,
          139500,
          110000,
          85000,
          189500,
          525000,
          848900,
          550000,
          113000,
          1766350,
          214900,
          1300000,
          null,
          70000,
          110000,
          119000,
          180000,
          1750000,
          null,
          null
         ],
         "xaxis": "x",
         "yaxis": "y"
        }
       ],
       "layout": {
        "barmode": "relative",
        "legend": {
         "tracegroupgap": 0
        },
        "template": {
         "data": {
          "bar": [
           {
            "error_x": {
             "color": "#2a3f5f"
            },
            "error_y": {
             "color": "#2a3f5f"
            },
            "marker": {
             "line": {
              "color": "#E5ECF6",
              "width": 0.5
             },
             "pattern": {
              "fillmode": "overlay",
              "size": 10,
              "solidity": 0.2
             }
            },
            "type": "bar"
           }
          ],
          "barpolar": [
           {
            "marker": {
             "line": {
              "color": "#E5ECF6",
              "width": 0.5
             },
             "pattern": {
              "fillmode": "overlay",
              "size": 10,
              "solidity": 0.2
             }
            },
            "type": "barpolar"
           }
          ],
          "carpet": [
           {
            "aaxis": {
             "endlinecolor": "#2a3f5f",
             "gridcolor": "white",
             "linecolor": "white",
             "minorgridcolor": "white",
             "startlinecolor": "#2a3f5f"
            },
            "baxis": {
             "endlinecolor": "#2a3f5f",
             "gridcolor": "white",
             "linecolor": "white",
             "minorgridcolor": "white",
             "startlinecolor": "#2a3f5f"
            },
            "type": "carpet"
           }
          ],
          "choropleth": [
           {
            "colorbar": {
             "outlinewidth": 0,
             "ticks": ""
            },
            "type": "choropleth"
           }
          ],
          "contour": [
           {
            "colorbar": {
             "outlinewidth": 0,
             "ticks": ""
            },
            "colorscale": [
             [
              0,
              "#0d0887"
             ],
             [
              0.1111111111111111,
              "#46039f"
             ],
             [
              0.2222222222222222,
              "#7201a8"
             ],
             [
              0.3333333333333333,
              "#9c179e"
             ],
             [
              0.4444444444444444,
              "#bd3786"
             ],
             [
              0.5555555555555556,
              "#d8576b"
             ],
             [
              0.6666666666666666,
              "#ed7953"
             ],
             [
              0.7777777777777778,
              "#fb9f3a"
             ],
             [
              0.8888888888888888,
              "#fdca26"
             ],
             [
              1,
              "#f0f921"
             ]
            ],
            "type": "contour"
           }
          ],
          "contourcarpet": [
           {
            "colorbar": {
             "outlinewidth": 0,
             "ticks": ""
            },
            "type": "contourcarpet"
           }
          ],
          "heatmap": [
           {
            "colorbar": {
             "outlinewidth": 0,
             "ticks": ""
            },
            "colorscale": [
             [
              0,
              "#0d0887"
             ],
             [
              0.1111111111111111,
              "#46039f"
             ],
             [
              0.2222222222222222,
              "#7201a8"
             ],
             [
              0.3333333333333333,
              "#9c179e"
             ],
             [
              0.4444444444444444,
              "#bd3786"
             ],
             [
              0.5555555555555556,
              "#d8576b"
             ],
             [
              0.6666666666666666,
              "#ed7953"
             ],
             [
              0.7777777777777778,
              "#fb9f3a"
             ],
             [
              0.8888888888888888,
              "#fdca26"
             ],
             [
              1,
              "#f0f921"
             ]
            ],
            "type": "heatmap"
           }
          ],
          "heatmapgl": [
           {
            "colorbar": {
             "outlinewidth": 0,
             "ticks": ""
            },
            "colorscale": [
             [
              0,
              "#0d0887"
             ],
             [
              0.1111111111111111,
              "#46039f"
             ],
             [
              0.2222222222222222,
              "#7201a8"
             ],
             [
              0.3333333333333333,
              "#9c179e"
             ],
             [
              0.4444444444444444,
              "#bd3786"
             ],
             [
              0.5555555555555556,
              "#d8576b"
             ],
             [
              0.6666666666666666,
              "#ed7953"
             ],
             [
              0.7777777777777778,
              "#fb9f3a"
             ],
             [
              0.8888888888888888,
              "#fdca26"
             ],
             [
              1,
              "#f0f921"
             ]
            ],
            "type": "heatmapgl"
           }
          ],
          "histogram": [
           {
            "marker": {
             "pattern": {
              "fillmode": "overlay",
              "size": 10,
              "solidity": 0.2
             }
            },
            "type": "histogram"
           }
          ],
          "histogram2d": [
           {
            "colorbar": {
             "outlinewidth": 0,
             "ticks": ""
            },
            "colorscale": [
             [
              0,
              "#0d0887"
             ],
             [
              0.1111111111111111,
              "#46039f"
             ],
             [
              0.2222222222222222,
              "#7201a8"
             ],
             [
              0.3333333333333333,
              "#9c179e"
             ],
             [
              0.4444444444444444,
              "#bd3786"
             ],
             [
              0.5555555555555556,
              "#d8576b"
             ],
             [
              0.6666666666666666,
              "#ed7953"
             ],
             [
              0.7777777777777778,
              "#fb9f3a"
             ],
             [
              0.8888888888888888,
              "#fdca26"
             ],
             [
              1,
              "#f0f921"
             ]
            ],
            "type": "histogram2d"
           }
          ],
          "histogram2dcontour": [
           {
            "colorbar": {
             "outlinewidth": 0,
             "ticks": ""
            },
            "colorscale": [
             [
              0,
              "#0d0887"
             ],
             [
              0.1111111111111111,
              "#46039f"
             ],
             [
              0.2222222222222222,
              "#7201a8"
             ],
             [
              0.3333333333333333,
              "#9c179e"
             ],
             [
              0.4444444444444444,
              "#bd3786"
             ],
             [
              0.5555555555555556,
              "#d8576b"
             ],
             [
              0.6666666666666666,
              "#ed7953"
             ],
             [
              0.7777777777777778,
              "#fb9f3a"
             ],
             [
              0.8888888888888888,
              "#fdca26"
             ],
             [
              1,
              "#f0f921"
             ]
            ],
            "type": "histogram2dcontour"
           }
          ],
          "mesh3d": [
           {
            "colorbar": {
             "outlinewidth": 0,
             "ticks": ""
            },
            "type": "mesh3d"
           }
          ],
          "parcoords": [
           {
            "line": {
             "colorbar": {
              "outlinewidth": 0,
              "ticks": ""
             }
            },
            "type": "parcoords"
           }
          ],
          "pie": [
           {
            "automargin": true,
            "type": "pie"
           }
          ],
          "scatter": [
           {
            "fillpattern": {
             "fillmode": "overlay",
             "size": 10,
             "solidity": 0.2
            },
            "type": "scatter"
           }
          ],
          "scatter3d": [
           {
            "line": {
             "colorbar": {
              "outlinewidth": 0,
              "ticks": ""
             }
            },
            "marker": {
             "colorbar": {
              "outlinewidth": 0,
              "ticks": ""
             }
            },
            "type": "scatter3d"
           }
          ],
          "scattercarpet": [
           {
            "marker": {
             "colorbar": {
              "outlinewidth": 0,
              "ticks": ""
             }
            },
            "type": "scattercarpet"
           }
          ],
          "scattergeo": [
           {
            "marker": {
             "colorbar": {
              "outlinewidth": 0,
              "ticks": ""
             }
            },
            "type": "scattergeo"
           }
          ],
          "scattergl": [
           {
            "marker": {
             "colorbar": {
              "outlinewidth": 0,
              "ticks": ""
             }
            },
            "type": "scattergl"
           }
          ],
          "scattermapbox": [
           {
            "marker": {
             "colorbar": {
              "outlinewidth": 0,
              "ticks": ""
             }
            },
            "type": "scattermapbox"
           }
          ],
          "scatterpolar": [
           {
            "marker": {
             "colorbar": {
              "outlinewidth": 0,
              "ticks": ""
             }
            },
            "type": "scatterpolar"
           }
          ],
          "scatterpolargl": [
           {
            "marker": {
             "colorbar": {
              "outlinewidth": 0,
              "ticks": ""
             }
            },
            "type": "scatterpolargl"
           }
          ],
          "scatterternary": [
           {
            "marker": {
             "colorbar": {
              "outlinewidth": 0,
              "ticks": ""
             }
            },
            "type": "scatterternary"
           }
          ],
          "surface": [
           {
            "colorbar": {
             "outlinewidth": 0,
             "ticks": ""
            },
            "colorscale": [
             [
              0,
              "#0d0887"
             ],
             [
              0.1111111111111111,
              "#46039f"
             ],
             [
              0.2222222222222222,
              "#7201a8"
             ],
             [
              0.3333333333333333,
              "#9c179e"
             ],
             [
              0.4444444444444444,
              "#bd3786"
             ],
             [
              0.5555555555555556,
              "#d8576b"
             ],
             [
              0.6666666666666666,
              "#ed7953"
             ],
             [
              0.7777777777777778,
              "#fb9f3a"
             ],
             [
              0.8888888888888888,
              "#fdca26"
             ],
             [
              1,
              "#f0f921"
             ]
            ],
            "type": "surface"
           }
          ],
          "table": [
           {
            "cells": {
             "fill": {
              "color": "#EBF0F8"
             },
             "line": {
              "color": "white"
             }
            },
            "header": {
             "fill": {
              "color": "#C8D4E3"
             },
             "line": {
              "color": "white"
             }
            },
            "type": "table"
           }
          ]
         },
         "layout": {
          "annotationdefaults": {
           "arrowcolor": "#2a3f5f",
           "arrowhead": 0,
           "arrowwidth": 1
          },
          "autotypenumbers": "strict",
          "coloraxis": {
           "colorbar": {
            "outlinewidth": 0,
            "ticks": ""
           }
          },
          "colorscale": {
           "diverging": [
            [
             0,
             "#8e0152"
            ],
            [
             0.1,
             "#c51b7d"
            ],
            [
             0.2,
             "#de77ae"
            ],
            [
             0.3,
             "#f1b6da"
            ],
            [
             0.4,
             "#fde0ef"
            ],
            [
             0.5,
             "#f7f7f7"
            ],
            [
             0.6,
             "#e6f5d0"
            ],
            [
             0.7,
             "#b8e186"
            ],
            [
             0.8,
             "#7fbc41"
            ],
            [
             0.9,
             "#4d9221"
            ],
            [
             1,
             "#276419"
            ]
           ],
           "sequential": [
            [
             0,
             "#0d0887"
            ],
            [
             0.1111111111111111,
             "#46039f"
            ],
            [
             0.2222222222222222,
             "#7201a8"
            ],
            [
             0.3333333333333333,
             "#9c179e"
            ],
            [
             0.4444444444444444,
             "#bd3786"
            ],
            [
             0.5555555555555556,
             "#d8576b"
            ],
            [
             0.6666666666666666,
             "#ed7953"
            ],
            [
             0.7777777777777778,
             "#fb9f3a"
            ],
            [
             0.8888888888888888,
             "#fdca26"
            ],
            [
             1,
             "#f0f921"
            ]
           ],
           "sequentialminus": [
            [
             0,
             "#0d0887"
            ],
            [
             0.1111111111111111,
             "#46039f"
            ],
            [
             0.2222222222222222,
             "#7201a8"
            ],
            [
             0.3333333333333333,
             "#9c179e"
            ],
            [
             0.4444444444444444,
             "#bd3786"
            ],
            [
             0.5555555555555556,
             "#d8576b"
            ],
            [
             0.6666666666666666,
             "#ed7953"
            ],
            [
             0.7777777777777778,
             "#fb9f3a"
            ],
            [
             0.8888888888888888,
             "#fdca26"
            ],
            [
             1,
             "#f0f921"
            ]
           ]
          },
          "colorway": [
           "#636efa",
           "#EF553B",
           "#00cc96",
           "#ab63fa",
           "#FFA15A",
           "#19d3f3",
           "#FF6692",
           "#B6E880",
           "#FF97FF",
           "#FECB52"
          ],
          "font": {
           "color": "#2a3f5f"
          },
          "geo": {
           "bgcolor": "white",
           "lakecolor": "white",
           "landcolor": "#E5ECF6",
           "showlakes": true,
           "showland": true,
           "subunitcolor": "white"
          },
          "hoverlabel": {
           "align": "left"
          },
          "hovermode": "closest",
          "mapbox": {
           "style": "light"
          },
          "paper_bgcolor": "white",
          "plot_bgcolor": "#E5ECF6",
          "polar": {
           "angularaxis": {
            "gridcolor": "white",
            "linecolor": "white",
            "ticks": ""
           },
           "bgcolor": "#E5ECF6",
           "radialaxis": {
            "gridcolor": "white",
            "linecolor": "white",
            "ticks": ""
           }
          },
          "scene": {
           "xaxis": {
            "backgroundcolor": "#E5ECF6",
            "gridcolor": "white",
            "gridwidth": 2,
            "linecolor": "white",
            "showbackground": true,
            "ticks": "",
            "zerolinecolor": "white"
           },
           "yaxis": {
            "backgroundcolor": "#E5ECF6",
            "gridcolor": "white",
            "gridwidth": 2,
            "linecolor": "white",
            "showbackground": true,
            "ticks": "",
            "zerolinecolor": "white"
           },
           "zaxis": {
            "backgroundcolor": "#E5ECF6",
            "gridcolor": "white",
            "gridwidth": 2,
            "linecolor": "white",
            "showbackground": true,
            "ticks": "",
            "zerolinecolor": "white"
           }
          },
          "shapedefaults": {
           "line": {
            "color": "#2a3f5f"
           }
          },
          "ternary": {
           "aaxis": {
            "gridcolor": "white",
            "linecolor": "white",
            "ticks": ""
           },
           "baxis": {
            "gridcolor": "white",
            "linecolor": "white",
            "ticks": ""
           },
           "bgcolor": "#E5ECF6",
           "caxis": {
            "gridcolor": "white",
            "linecolor": "white",
            "ticks": ""
           }
          },
          "title": {
           "x": 0.05
          },
          "xaxis": {
           "automargin": true,
           "gridcolor": "white",
           "linecolor": "white",
           "ticks": "",
           "title": {
            "standoff": 15
           },
           "zerolinecolor": "white",
           "zerolinewidth": 2
          },
          "yaxis": {
           "automargin": true,
           "gridcolor": "white",
           "linecolor": "white",
           "ticks": "",
           "title": {
            "standoff": 15
           },
           "zerolinecolor": "white",
           "zerolinewidth": 2
          }
         }
        },
        "title": {
         "text": "Sales Price"
        },
        "xaxis": {
         "anchor": "y",
         "domain": [
          0,
          1
         ],
         "title": {
          "text": "Home price"
         }
        },
        "yaxis": {
         "anchor": "x",
         "domain": [
          0,
          1
         ],
         "title": {
          "text": "count"
         }
        }
       }
      }
     },
     "metadata": {},
     "output_type": "display_data"
    }
   ],
   "source": [
    "\n",
    "# view price\n",
    "px.histogram(df_listings, x=\"hdpData.homeInfo.price\", labels={\"hdpData.homeInfo.price\": \"Home price\"}, title=\"Sales Price\")"
   ]
  },
  {
   "cell_type": "code",
   "execution_count": 68,
   "metadata": {},
   "outputs": [
    {
     "data": {
      "application/vnd.plotly.v1+json": {
       "config": {
        "plotlyServerURL": "https://plot.ly"
       },
       "data": [
        {
         "alignmentgroup": "True",
         "bingroup": "x",
         "hovertemplate": "Home Zestimate=%{x}<br>count=%{y}<extra></extra>",
         "legendgroup": "",
         "marker": {
          "color": "#636efa",
          "pattern": {
           "shape": ""
          }
         },
         "name": "",
         "offsetgroup": "",
         "orientation": "v",
         "showlegend": false,
         "type": "histogram",
         "x": [
          394800,
          124952,
          null,
          334902,
          270000,
          364902,
          345002,
          90957,
          319902,
          631759,
          null,
          null,
          162901,
          261300,
          475002,
          229001,
          null,
          425002,
          null,
          null,
          377465,
          null,
          360000,
          255002,
          null,
          657397,
          944493,
          641283,
          315002,
          295001,
          285000,
          null,
          763868,
          712840,
          null,
          415670,
          519001,
          340002,
          null,
          null,
          null,
          270002,
          null,
          null,
          721344,
          810400,
          null,
          404001,
          500000,
          639411,
          null,
          null,
          null,
          832105,
          582177,
          670323,
          null,
          599000,
          205000,
          null,
          715566,
          335003,
          348500,
          568090,
          null,
          null,
          null,
          715665,
          465001,
          394400,
          null,
          null,
          null,
          375002,
          null,
          1226905,
          491971,
          414902,
          571848,
          null,
          434828,
          643882,
          262687,
          418503,
          349901,
          null,
          null,
          330003,
          1827914,
          null,
          null,
          762905,
          null,
          429901,
          null,
          484501,
          null,
          null,
          268200,
          null,
          757642,
          null,
          null,
          661402,
          251899,
          null,
          595098,
          917400,
          499901,
          null,
          null,
          null,
          null,
          null,
          null,
          null,
          498395,
          299900,
          null,
          645449,
          null,
          null,
          360001,
          null,
          404700,
          385002,
          781309,
          null,
          540001,
          null,
          null,
          null,
          279901,
          null,
          519902,
          null,
          null,
          540002,
          null,
          null,
          137222,
          null,
          806373,
          370001,
          null,
          241509,
          1063179,
          415435,
          null,
          null,
          null,
          null,
          808500,
          2021390,
          757777,
          null,
          null,
          80000,
          360000,
          null,
          315001,
          399000,
          null,
          490000,
          null,
          287900,
          null,
          322392,
          null,
          369903,
          null,
          null,
          243686,
          null,
          303900,
          224900,
          null,
          null,
          null,
          null,
          null,
          null,
          null,
          null,
          517595,
          null,
          299002,
          null,
          573683,
          null,
          null,
          439900,
          null,
          365354,
          null,
          null,
          null,
          279000,
          null,
          344902,
          null,
          null,
          201300,
          359902,
          null,
          783681,
          364901,
          459903,
          null,
          623577,
          719696,
          null,
          null,
          413100,
          null,
          null,
          null,
          null,
          364996,
          null,
          354902,
          null,
          510001,
          null,
          null,
          509993,
          450000,
          379901,
          null,
          null,
          330002,
          249901,
          524991,
          null,
          379002,
          null,
          570001,
          485977,
          null,
          262500,
          259000,
          425002,
          592834,
          574990,
          320600,
          359002,
          null,
          null,
          null,
          null,
          259901,
          314902,
          435169,
          null,
          null,
          null,
          null,
          508804,
          null,
          null,
          null,
          null,
          null,
          716288,
          828918,
          null,
          322700,
          null,
          null,
          null,
          null,
          229900,
          302600,
          383465,
          null,
          null,
          null,
          null,
          null,
          null,
          null,
          null,
          null,
          null,
          null,
          null,
          445054,
          null,
          495002,
          null,
          null,
          575455,
          null,
          343457,
          null,
          null,
          null,
          589901,
          450000,
          451967,
          null,
          null,
          null,
          null,
          null,
          null,
          967078,
          null,
          null,
          null,
          null,
          null,
          null,
          null,
          null,
          563862,
          null,
          null,
          112000,
          null,
          null,
          null,
          null,
          null,
          null,
          null,
          null,
          null,
          null,
          355002,
          null,
          null,
          null,
          554862,
          null,
          null,
          null,
          null,
          408296,
          null,
          null,
          null,
          null,
          null,
          null,
          null,
          null,
          null,
          null,
          null,
          569995,
          null,
          null,
          null,
          null,
          null,
          null,
          null,
          null,
          532821,
          null,
          null,
          null,
          null,
          null,
          null,
          null,
          null,
          null,
          null,
          null,
          null,
          null,
          null,
          null,
          null,
          null,
          null,
          null,
          508500,
          null,
          null,
          null,
          null,
          null,
          null,
          null,
          null,
          null,
          null,
          524991,
          null,
          null,
          null,
          null,
          null,
          null,
          null,
          null,
          null,
          null,
          null,
          null,
          null,
          null,
          null,
          null,
          null,
          null,
          null,
          null,
          null,
          null,
          null,
          null,
          null,
          null,
          null,
          null,
          null,
          null,
          null,
          null,
          null,
          null,
          null,
          null,
          null,
          null,
          null,
          null,
          null,
          null,
          null,
          null,
          null,
          null,
          null,
          null,
          null,
          null,
          null,
          null,
          null,
          null
         ],
         "xaxis": "x",
         "yaxis": "y"
        }
       ],
       "layout": {
        "barmode": "relative",
        "legend": {
         "tracegroupgap": 0
        },
        "template": {
         "data": {
          "bar": [
           {
            "error_x": {
             "color": "#2a3f5f"
            },
            "error_y": {
             "color": "#2a3f5f"
            },
            "marker": {
             "line": {
              "color": "#E5ECF6",
              "width": 0.5
             },
             "pattern": {
              "fillmode": "overlay",
              "size": 10,
              "solidity": 0.2
             }
            },
            "type": "bar"
           }
          ],
          "barpolar": [
           {
            "marker": {
             "line": {
              "color": "#E5ECF6",
              "width": 0.5
             },
             "pattern": {
              "fillmode": "overlay",
              "size": 10,
              "solidity": 0.2
             }
            },
            "type": "barpolar"
           }
          ],
          "carpet": [
           {
            "aaxis": {
             "endlinecolor": "#2a3f5f",
             "gridcolor": "white",
             "linecolor": "white",
             "minorgridcolor": "white",
             "startlinecolor": "#2a3f5f"
            },
            "baxis": {
             "endlinecolor": "#2a3f5f",
             "gridcolor": "white",
             "linecolor": "white",
             "minorgridcolor": "white",
             "startlinecolor": "#2a3f5f"
            },
            "type": "carpet"
           }
          ],
          "choropleth": [
           {
            "colorbar": {
             "outlinewidth": 0,
             "ticks": ""
            },
            "type": "choropleth"
           }
          ],
          "contour": [
           {
            "colorbar": {
             "outlinewidth": 0,
             "ticks": ""
            },
            "colorscale": [
             [
              0,
              "#0d0887"
             ],
             [
              0.1111111111111111,
              "#46039f"
             ],
             [
              0.2222222222222222,
              "#7201a8"
             ],
             [
              0.3333333333333333,
              "#9c179e"
             ],
             [
              0.4444444444444444,
              "#bd3786"
             ],
             [
              0.5555555555555556,
              "#d8576b"
             ],
             [
              0.6666666666666666,
              "#ed7953"
             ],
             [
              0.7777777777777778,
              "#fb9f3a"
             ],
             [
              0.8888888888888888,
              "#fdca26"
             ],
             [
              1,
              "#f0f921"
             ]
            ],
            "type": "contour"
           }
          ],
          "contourcarpet": [
           {
            "colorbar": {
             "outlinewidth": 0,
             "ticks": ""
            },
            "type": "contourcarpet"
           }
          ],
          "heatmap": [
           {
            "colorbar": {
             "outlinewidth": 0,
             "ticks": ""
            },
            "colorscale": [
             [
              0,
              "#0d0887"
             ],
             [
              0.1111111111111111,
              "#46039f"
             ],
             [
              0.2222222222222222,
              "#7201a8"
             ],
             [
              0.3333333333333333,
              "#9c179e"
             ],
             [
              0.4444444444444444,
              "#bd3786"
             ],
             [
              0.5555555555555556,
              "#d8576b"
             ],
             [
              0.6666666666666666,
              "#ed7953"
             ],
             [
              0.7777777777777778,
              "#fb9f3a"
             ],
             [
              0.8888888888888888,
              "#fdca26"
             ],
             [
              1,
              "#f0f921"
             ]
            ],
            "type": "heatmap"
           }
          ],
          "heatmapgl": [
           {
            "colorbar": {
             "outlinewidth": 0,
             "ticks": ""
            },
            "colorscale": [
             [
              0,
              "#0d0887"
             ],
             [
              0.1111111111111111,
              "#46039f"
             ],
             [
              0.2222222222222222,
              "#7201a8"
             ],
             [
              0.3333333333333333,
              "#9c179e"
             ],
             [
              0.4444444444444444,
              "#bd3786"
             ],
             [
              0.5555555555555556,
              "#d8576b"
             ],
             [
              0.6666666666666666,
              "#ed7953"
             ],
             [
              0.7777777777777778,
              "#fb9f3a"
             ],
             [
              0.8888888888888888,
              "#fdca26"
             ],
             [
              1,
              "#f0f921"
             ]
            ],
            "type": "heatmapgl"
           }
          ],
          "histogram": [
           {
            "marker": {
             "pattern": {
              "fillmode": "overlay",
              "size": 10,
              "solidity": 0.2
             }
            },
            "type": "histogram"
           }
          ],
          "histogram2d": [
           {
            "colorbar": {
             "outlinewidth": 0,
             "ticks": ""
            },
            "colorscale": [
             [
              0,
              "#0d0887"
             ],
             [
              0.1111111111111111,
              "#46039f"
             ],
             [
              0.2222222222222222,
              "#7201a8"
             ],
             [
              0.3333333333333333,
              "#9c179e"
             ],
             [
              0.4444444444444444,
              "#bd3786"
             ],
             [
              0.5555555555555556,
              "#d8576b"
             ],
             [
              0.6666666666666666,
              "#ed7953"
             ],
             [
              0.7777777777777778,
              "#fb9f3a"
             ],
             [
              0.8888888888888888,
              "#fdca26"
             ],
             [
              1,
              "#f0f921"
             ]
            ],
            "type": "histogram2d"
           }
          ],
          "histogram2dcontour": [
           {
            "colorbar": {
             "outlinewidth": 0,
             "ticks": ""
            },
            "colorscale": [
             [
              0,
              "#0d0887"
             ],
             [
              0.1111111111111111,
              "#46039f"
             ],
             [
              0.2222222222222222,
              "#7201a8"
             ],
             [
              0.3333333333333333,
              "#9c179e"
             ],
             [
              0.4444444444444444,
              "#bd3786"
             ],
             [
              0.5555555555555556,
              "#d8576b"
             ],
             [
              0.6666666666666666,
              "#ed7953"
             ],
             [
              0.7777777777777778,
              "#fb9f3a"
             ],
             [
              0.8888888888888888,
              "#fdca26"
             ],
             [
              1,
              "#f0f921"
             ]
            ],
            "type": "histogram2dcontour"
           }
          ],
          "mesh3d": [
           {
            "colorbar": {
             "outlinewidth": 0,
             "ticks": ""
            },
            "type": "mesh3d"
           }
          ],
          "parcoords": [
           {
            "line": {
             "colorbar": {
              "outlinewidth": 0,
              "ticks": ""
             }
            },
            "type": "parcoords"
           }
          ],
          "pie": [
           {
            "automargin": true,
            "type": "pie"
           }
          ],
          "scatter": [
           {
            "fillpattern": {
             "fillmode": "overlay",
             "size": 10,
             "solidity": 0.2
            },
            "type": "scatter"
           }
          ],
          "scatter3d": [
           {
            "line": {
             "colorbar": {
              "outlinewidth": 0,
              "ticks": ""
             }
            },
            "marker": {
             "colorbar": {
              "outlinewidth": 0,
              "ticks": ""
             }
            },
            "type": "scatter3d"
           }
          ],
          "scattercarpet": [
           {
            "marker": {
             "colorbar": {
              "outlinewidth": 0,
              "ticks": ""
             }
            },
            "type": "scattercarpet"
           }
          ],
          "scattergeo": [
           {
            "marker": {
             "colorbar": {
              "outlinewidth": 0,
              "ticks": ""
             }
            },
            "type": "scattergeo"
           }
          ],
          "scattergl": [
           {
            "marker": {
             "colorbar": {
              "outlinewidth": 0,
              "ticks": ""
             }
            },
            "type": "scattergl"
           }
          ],
          "scattermapbox": [
           {
            "marker": {
             "colorbar": {
              "outlinewidth": 0,
              "ticks": ""
             }
            },
            "type": "scattermapbox"
           }
          ],
          "scatterpolar": [
           {
            "marker": {
             "colorbar": {
              "outlinewidth": 0,
              "ticks": ""
             }
            },
            "type": "scatterpolar"
           }
          ],
          "scatterpolargl": [
           {
            "marker": {
             "colorbar": {
              "outlinewidth": 0,
              "ticks": ""
             }
            },
            "type": "scatterpolargl"
           }
          ],
          "scatterternary": [
           {
            "marker": {
             "colorbar": {
              "outlinewidth": 0,
              "ticks": ""
             }
            },
            "type": "scatterternary"
           }
          ],
          "surface": [
           {
            "colorbar": {
             "outlinewidth": 0,
             "ticks": ""
            },
            "colorscale": [
             [
              0,
              "#0d0887"
             ],
             [
              0.1111111111111111,
              "#46039f"
             ],
             [
              0.2222222222222222,
              "#7201a8"
             ],
             [
              0.3333333333333333,
              "#9c179e"
             ],
             [
              0.4444444444444444,
              "#bd3786"
             ],
             [
              0.5555555555555556,
              "#d8576b"
             ],
             [
              0.6666666666666666,
              "#ed7953"
             ],
             [
              0.7777777777777778,
              "#fb9f3a"
             ],
             [
              0.8888888888888888,
              "#fdca26"
             ],
             [
              1,
              "#f0f921"
             ]
            ],
            "type": "surface"
           }
          ],
          "table": [
           {
            "cells": {
             "fill": {
              "color": "#EBF0F8"
             },
             "line": {
              "color": "white"
             }
            },
            "header": {
             "fill": {
              "color": "#C8D4E3"
             },
             "line": {
              "color": "white"
             }
            },
            "type": "table"
           }
          ]
         },
         "layout": {
          "annotationdefaults": {
           "arrowcolor": "#2a3f5f",
           "arrowhead": 0,
           "arrowwidth": 1
          },
          "autotypenumbers": "strict",
          "coloraxis": {
           "colorbar": {
            "outlinewidth": 0,
            "ticks": ""
           }
          },
          "colorscale": {
           "diverging": [
            [
             0,
             "#8e0152"
            ],
            [
             0.1,
             "#c51b7d"
            ],
            [
             0.2,
             "#de77ae"
            ],
            [
             0.3,
             "#f1b6da"
            ],
            [
             0.4,
             "#fde0ef"
            ],
            [
             0.5,
             "#f7f7f7"
            ],
            [
             0.6,
             "#e6f5d0"
            ],
            [
             0.7,
             "#b8e186"
            ],
            [
             0.8,
             "#7fbc41"
            ],
            [
             0.9,
             "#4d9221"
            ],
            [
             1,
             "#276419"
            ]
           ],
           "sequential": [
            [
             0,
             "#0d0887"
            ],
            [
             0.1111111111111111,
             "#46039f"
            ],
            [
             0.2222222222222222,
             "#7201a8"
            ],
            [
             0.3333333333333333,
             "#9c179e"
            ],
            [
             0.4444444444444444,
             "#bd3786"
            ],
            [
             0.5555555555555556,
             "#d8576b"
            ],
            [
             0.6666666666666666,
             "#ed7953"
            ],
            [
             0.7777777777777778,
             "#fb9f3a"
            ],
            [
             0.8888888888888888,
             "#fdca26"
            ],
            [
             1,
             "#f0f921"
            ]
           ],
           "sequentialminus": [
            [
             0,
             "#0d0887"
            ],
            [
             0.1111111111111111,
             "#46039f"
            ],
            [
             0.2222222222222222,
             "#7201a8"
            ],
            [
             0.3333333333333333,
             "#9c179e"
            ],
            [
             0.4444444444444444,
             "#bd3786"
            ],
            [
             0.5555555555555556,
             "#d8576b"
            ],
            [
             0.6666666666666666,
             "#ed7953"
            ],
            [
             0.7777777777777778,
             "#fb9f3a"
            ],
            [
             0.8888888888888888,
             "#fdca26"
            ],
            [
             1,
             "#f0f921"
            ]
           ]
          },
          "colorway": [
           "#636efa",
           "#EF553B",
           "#00cc96",
           "#ab63fa",
           "#FFA15A",
           "#19d3f3",
           "#FF6692",
           "#B6E880",
           "#FF97FF",
           "#FECB52"
          ],
          "font": {
           "color": "#2a3f5f"
          },
          "geo": {
           "bgcolor": "white",
           "lakecolor": "white",
           "landcolor": "#E5ECF6",
           "showlakes": true,
           "showland": true,
           "subunitcolor": "white"
          },
          "hoverlabel": {
           "align": "left"
          },
          "hovermode": "closest",
          "mapbox": {
           "style": "light"
          },
          "paper_bgcolor": "white",
          "plot_bgcolor": "#E5ECF6",
          "polar": {
           "angularaxis": {
            "gridcolor": "white",
            "linecolor": "white",
            "ticks": ""
           },
           "bgcolor": "#E5ECF6",
           "radialaxis": {
            "gridcolor": "white",
            "linecolor": "white",
            "ticks": ""
           }
          },
          "scene": {
           "xaxis": {
            "backgroundcolor": "#E5ECF6",
            "gridcolor": "white",
            "gridwidth": 2,
            "linecolor": "white",
            "showbackground": true,
            "ticks": "",
            "zerolinecolor": "white"
           },
           "yaxis": {
            "backgroundcolor": "#E5ECF6",
            "gridcolor": "white",
            "gridwidth": 2,
            "linecolor": "white",
            "showbackground": true,
            "ticks": "",
            "zerolinecolor": "white"
           },
           "zaxis": {
            "backgroundcolor": "#E5ECF6",
            "gridcolor": "white",
            "gridwidth": 2,
            "linecolor": "white",
            "showbackground": true,
            "ticks": "",
            "zerolinecolor": "white"
           }
          },
          "shapedefaults": {
           "line": {
            "color": "#2a3f5f"
           }
          },
          "ternary": {
           "aaxis": {
            "gridcolor": "white",
            "linecolor": "white",
            "ticks": ""
           },
           "baxis": {
            "gridcolor": "white",
            "linecolor": "white",
            "ticks": ""
           },
           "bgcolor": "#E5ECF6",
           "caxis": {
            "gridcolor": "white",
            "linecolor": "white",
            "ticks": ""
           }
          },
          "title": {
           "x": 0.05
          },
          "xaxis": {
           "automargin": true,
           "gridcolor": "white",
           "linecolor": "white",
           "ticks": "",
           "title": {
            "standoff": 15
           },
           "zerolinecolor": "white",
           "zerolinewidth": 2
          },
          "yaxis": {
           "automargin": true,
           "gridcolor": "white",
           "linecolor": "white",
           "ticks": "",
           "title": {
            "standoff": 15
           },
           "zerolinecolor": "white",
           "zerolinewidth": 2
          }
         }
        },
        "title": {
         "text": "Zestimate Histogram"
        },
        "xaxis": {
         "anchor": "y",
         "domain": [
          0,
          1
         ],
         "title": {
          "text": "Home Zestimate"
         }
        },
        "yaxis": {
         "anchor": "x",
         "domain": [
          0,
          1
         ],
         "title": {
          "text": "count"
         }
        }
       }
      }
     },
     "metadata": {},
     "output_type": "display_data"
    }
   ],
   "source": [
    "# view zestimate\n",
    "px.histogram(df_listings, x=\"hdpData.homeInfo.zestimate\", labels={\"hdpData.homeInfo.zestimate\": \"Home Zestimate\"}, title=\"Zestimate Histogram\")"
   ]
  },
  {
   "cell_type": "code",
   "execution_count": 28,
   "metadata": {},
   "outputs": [
    {
     "name": "stdout",
     "output_type": "stream",
     "text": [
      "2578\n"
     ]
    }
   ],
   "source": [
    "##Mortgage Calculations\n",
    "\n",
    "homePrice = 425000\n",
    "downPayment = 85000\n",
    "loanYears = 30\n",
    "interestRate = 6.87\n",
    "propTax = 280\n",
    "hInsurance = 66\n",
    "PMI = 0\n",
    "HOA = 0\n",
    "\n",
    "def getMortgage(homePrice, downPayment, loanYears, interestRate, propTax, hInsurance, PMI, HOA):\n",
    "    P = homePrice - downPayment\n",
    "    N = loanYears * 12\n",
    "    i = interestRate / 100 / 12\n",
    "    a = pow((1+i),N)\n",
    "    b = P * i * a\n",
    "    c = a - 1\n",
    "    principleInterest = b/c\n",
    "    principleInterest = round(principleInterest)\n",
    "    Mortgage = principleInterest+propTax+hInsurance+PMI+HOA \n",
    "    print(Mortgage)\n",
    "\n",
    "getMortgage(homePrice, downPayment, loanYears, interestRate, propTax, hInsurance, PMI, HOA)"
   ]
  },
  {
   "cell_type": "code",
   "execution_count": 50,
   "metadata": {},
   "outputs": [],
   "source": [
    "##send emails \n",
    "\n",
    "from email.message import EmailMessage\n",
    "import ssl\n",
    "import smtplib\n",
    "\n",
    "email_sender = \"restateinvesthub@gmail.com\"\n",
    "email_password = \"exmrdpedpspjztib\"\n",
    "email_receiver = \"hekosmicki@gmail.com\"\n",
    "\n",
    "Subject = \"New House Matches for You\"\n",
    "Body = \"\"\"\n",
    "This is a test email from our python server!!! Yay\n",
    "\"\"\"\n",
    "\n",
    "em = EmailMessage()\n",
    "em['From'] = email_sender\n",
    "em['To'] = email_receiver\n",
    "em['Subject'] = Subject\n",
    "em.set_content(Body)\n",
    "\n",
    "context = ssl.create_default_context()\n",
    "\n",
    "with smtplib.SMTP_SSL('smtp.gmail.com', 465, context=context) as smtp:\n",
    "    smtp.login(email_sender, email_password)\n",
    "    smtp.sendmail(email_sender, email_receiver, em.as_string())\n"
   ]
  },
  {
   "cell_type": "code",
   "execution_count": null,
   "metadata": {},
   "outputs": [],
   "source": []
  }
 ],
 "metadata": {
  "kernelspec": {
   "display_name": "base",
   "language": "python",
   "name": "python3"
  },
  "language_info": {
   "codemirror_mode": {
    "name": "ipython",
    "version": 3
   },
   "file_extension": ".py",
   "mimetype": "text/x-python",
   "name": "python",
   "nbconvert_exporter": "python",
   "pygments_lexer": "ipython3",
   "version": "3.9.13"
  },
  "orig_nbformat": 4,
  "vscode": {
   "interpreter": {
    "hash": "9c5f66a447af98d7d7aaa9fe4207ab3a42e376567a57f4228c70ddb58bc23a3d"
   }
  }
 },
 "nbformat": 4,
 "nbformat_minor": 2
}
